{
  "cells": [
    {
      "cell_type": "markdown",
      "metadata": {
        "id": "view-in-github",
        "colab_type": "text"
      },
      "source": [
        "<a href=\"https://colab.research.google.com/github/ruchits-git/ruchits-git/blob/main/decisionTree_Scratch.ipynb\" target=\"_parent\"><img src=\"https://colab.research.google.com/assets/colab-badge.svg\" alt=\"Open In Colab\"/></a>"
      ]
    },
    {
      "cell_type": "markdown",
      "metadata": {
        "id": "_CT2qqTc2NTX"
      },
      "source": [
        "## Data Preprocessing"
      ]
    },
    {
      "cell_type": "code",
      "execution_count": null,
      "metadata": {
        "id": "06_UnVE60-Fg"
      },
      "outputs": [],
      "source": [
        "import numpy as np\n",
        "import pandas as pd\n",
        "import math"
      ]
    },
    {
      "cell_type": "markdown",
      "metadata": {
        "id": "JiKRnV8Ayd4c"
      },
      "source": [
        "# Dataset: Play Tennis"
      ]
    },
    {
      "cell_type": "code",
      "execution_count": null,
      "metadata": {
        "colab": {
          "base_uri": "https://localhost:8080/",
          "height": 488
        },
        "id": "_HveB07t1KsL",
        "outputId": "810c37bf-934c-4f6f-99b1-b2214089d5d5"
      },
      "outputs": [
        {
          "data": {
            "text/html": [
              "<div>\n",
              "<style scoped>\n",
              "    .dataframe tbody tr th:only-of-type {\n",
              "        vertical-align: middle;\n",
              "    }\n",
              "\n",
              "    .dataframe tbody tr th {\n",
              "        vertical-align: top;\n",
              "    }\n",
              "\n",
              "    .dataframe thead th {\n",
              "        text-align: right;\n",
              "    }\n",
              "</style>\n",
              "<table border=\"1\" class=\"dataframe\">\n",
              "  <thead>\n",
              "    <tr style=\"text-align: right;\">\n",
              "      <th></th>\n",
              "      <th>outlook</th>\n",
              "      <th>temp</th>\n",
              "      <th>humidity</th>\n",
              "      <th>windy</th>\n",
              "      <th>play</th>\n",
              "    </tr>\n",
              "  </thead>\n",
              "  <tbody>\n",
              "    <tr>\n",
              "      <th>0</th>\n",
              "      <td>sunny</td>\n",
              "      <td>hot</td>\n",
              "      <td>high</td>\n",
              "      <td>False</td>\n",
              "      <td>no</td>\n",
              "    </tr>\n",
              "    <tr>\n",
              "      <th>1</th>\n",
              "      <td>sunny</td>\n",
              "      <td>hot</td>\n",
              "      <td>high</td>\n",
              "      <td>True</td>\n",
              "      <td>no</td>\n",
              "    </tr>\n",
              "    <tr>\n",
              "      <th>2</th>\n",
              "      <td>overcast</td>\n",
              "      <td>hot</td>\n",
              "      <td>high</td>\n",
              "      <td>False</td>\n",
              "      <td>yes</td>\n",
              "    </tr>\n",
              "    <tr>\n",
              "      <th>3</th>\n",
              "      <td>rainy</td>\n",
              "      <td>mild</td>\n",
              "      <td>high</td>\n",
              "      <td>False</td>\n",
              "      <td>yes</td>\n",
              "    </tr>\n",
              "    <tr>\n",
              "      <th>4</th>\n",
              "      <td>rainy</td>\n",
              "      <td>cool</td>\n",
              "      <td>normal</td>\n",
              "      <td>False</td>\n",
              "      <td>yes</td>\n",
              "    </tr>\n",
              "    <tr>\n",
              "      <th>5</th>\n",
              "      <td>rainy</td>\n",
              "      <td>cool</td>\n",
              "      <td>normal</td>\n",
              "      <td>True</td>\n",
              "      <td>no</td>\n",
              "    </tr>\n",
              "    <tr>\n",
              "      <th>6</th>\n",
              "      <td>overcast</td>\n",
              "      <td>cool</td>\n",
              "      <td>normal</td>\n",
              "      <td>True</td>\n",
              "      <td>yes</td>\n",
              "    </tr>\n",
              "    <tr>\n",
              "      <th>7</th>\n",
              "      <td>sunny</td>\n",
              "      <td>mild</td>\n",
              "      <td>high</td>\n",
              "      <td>False</td>\n",
              "      <td>no</td>\n",
              "    </tr>\n",
              "    <tr>\n",
              "      <th>8</th>\n",
              "      <td>sunny</td>\n",
              "      <td>cool</td>\n",
              "      <td>normal</td>\n",
              "      <td>False</td>\n",
              "      <td>yes</td>\n",
              "    </tr>\n",
              "    <tr>\n",
              "      <th>9</th>\n",
              "      <td>rainy</td>\n",
              "      <td>mild</td>\n",
              "      <td>normal</td>\n",
              "      <td>False</td>\n",
              "      <td>yes</td>\n",
              "    </tr>\n",
              "    <tr>\n",
              "      <th>10</th>\n",
              "      <td>sunny</td>\n",
              "      <td>mild</td>\n",
              "      <td>normal</td>\n",
              "      <td>True</td>\n",
              "      <td>yes</td>\n",
              "    </tr>\n",
              "    <tr>\n",
              "      <th>11</th>\n",
              "      <td>overcast</td>\n",
              "      <td>mild</td>\n",
              "      <td>high</td>\n",
              "      <td>True</td>\n",
              "      <td>yes</td>\n",
              "    </tr>\n",
              "    <tr>\n",
              "      <th>12</th>\n",
              "      <td>overcast</td>\n",
              "      <td>hot</td>\n",
              "      <td>normal</td>\n",
              "      <td>False</td>\n",
              "      <td>yes</td>\n",
              "    </tr>\n",
              "    <tr>\n",
              "      <th>13</th>\n",
              "      <td>rainy</td>\n",
              "      <td>mild</td>\n",
              "      <td>high</td>\n",
              "      <td>True</td>\n",
              "      <td>no</td>\n",
              "    </tr>\n",
              "  </tbody>\n",
              "</table>\n",
              "</div>"
            ],
            "text/plain": [
              "     outlook  temp humidity  windy play\n",
              "0      sunny   hot     high  False   no\n",
              "1      sunny   hot     high   True   no\n",
              "2   overcast   hot     high  False  yes\n",
              "3      rainy  mild     high  False  yes\n",
              "4      rainy  cool   normal  False  yes\n",
              "5      rainy  cool   normal   True   no\n",
              "6   overcast  cool   normal   True  yes\n",
              "7      sunny  mild     high  False   no\n",
              "8      sunny  cool   normal  False  yes\n",
              "9      rainy  mild   normal  False  yes\n",
              "10     sunny  mild   normal   True  yes\n",
              "11  overcast  mild     high   True  yes\n",
              "12  overcast   hot   normal  False  yes\n",
              "13     rainy  mild     high   True   no"
            ]
          },
          "execution_count": 2,
          "metadata": {},
          "output_type": "execute_result"
        }
      ],
      "source": [
        "data = pd.read_csv('PlayTennis.csv')\n",
        "data"
      ]
    },
    {
      "cell_type": "code",
      "execution_count": null,
      "metadata": {
        "colab": {
          "base_uri": "https://localhost:8080/",
          "height": 488
        },
        "id": "6bfZPelfR8ba",
        "outputId": "56fc239e-9463-4e7f-e04e-1b6fc93f77e8"
      },
      "outputs": [
        {
          "data": {
            "text/html": [
              "<div>\n",
              "<style scoped>\n",
              "    .dataframe tbody tr th:only-of-type {\n",
              "        vertical-align: middle;\n",
              "    }\n",
              "\n",
              "    .dataframe tbody tr th {\n",
              "        vertical-align: top;\n",
              "    }\n",
              "\n",
              "    .dataframe thead th {\n",
              "        text-align: right;\n",
              "    }\n",
              "</style>\n",
              "<table border=\"1\" class=\"dataframe\">\n",
              "  <thead>\n",
              "    <tr style=\"text-align: right;\">\n",
              "      <th></th>\n",
              "      <th>outlook</th>\n",
              "      <th>temp</th>\n",
              "      <th>humidity</th>\n",
              "      <th>windy</th>\n",
              "      <th>play</th>\n",
              "    </tr>\n",
              "  </thead>\n",
              "  <tbody>\n",
              "    <tr>\n",
              "      <th>0</th>\n",
              "      <td>2</td>\n",
              "      <td>1</td>\n",
              "      <td>0</td>\n",
              "      <td>0</td>\n",
              "      <td>0</td>\n",
              "    </tr>\n",
              "    <tr>\n",
              "      <th>1</th>\n",
              "      <td>2</td>\n",
              "      <td>1</td>\n",
              "      <td>0</td>\n",
              "      <td>1</td>\n",
              "      <td>0</td>\n",
              "    </tr>\n",
              "    <tr>\n",
              "      <th>2</th>\n",
              "      <td>0</td>\n",
              "      <td>1</td>\n",
              "      <td>0</td>\n",
              "      <td>0</td>\n",
              "      <td>1</td>\n",
              "    </tr>\n",
              "    <tr>\n",
              "      <th>3</th>\n",
              "      <td>1</td>\n",
              "      <td>2</td>\n",
              "      <td>0</td>\n",
              "      <td>0</td>\n",
              "      <td>1</td>\n",
              "    </tr>\n",
              "    <tr>\n",
              "      <th>4</th>\n",
              "      <td>1</td>\n",
              "      <td>0</td>\n",
              "      <td>1</td>\n",
              "      <td>0</td>\n",
              "      <td>1</td>\n",
              "    </tr>\n",
              "    <tr>\n",
              "      <th>5</th>\n",
              "      <td>1</td>\n",
              "      <td>0</td>\n",
              "      <td>1</td>\n",
              "      <td>1</td>\n",
              "      <td>0</td>\n",
              "    </tr>\n",
              "    <tr>\n",
              "      <th>6</th>\n",
              "      <td>0</td>\n",
              "      <td>0</td>\n",
              "      <td>1</td>\n",
              "      <td>1</td>\n",
              "      <td>1</td>\n",
              "    </tr>\n",
              "    <tr>\n",
              "      <th>7</th>\n",
              "      <td>2</td>\n",
              "      <td>2</td>\n",
              "      <td>0</td>\n",
              "      <td>0</td>\n",
              "      <td>0</td>\n",
              "    </tr>\n",
              "    <tr>\n",
              "      <th>8</th>\n",
              "      <td>2</td>\n",
              "      <td>0</td>\n",
              "      <td>1</td>\n",
              "      <td>0</td>\n",
              "      <td>1</td>\n",
              "    </tr>\n",
              "    <tr>\n",
              "      <th>9</th>\n",
              "      <td>1</td>\n",
              "      <td>2</td>\n",
              "      <td>1</td>\n",
              "      <td>0</td>\n",
              "      <td>1</td>\n",
              "    </tr>\n",
              "    <tr>\n",
              "      <th>10</th>\n",
              "      <td>2</td>\n",
              "      <td>2</td>\n",
              "      <td>1</td>\n",
              "      <td>1</td>\n",
              "      <td>1</td>\n",
              "    </tr>\n",
              "    <tr>\n",
              "      <th>11</th>\n",
              "      <td>0</td>\n",
              "      <td>2</td>\n",
              "      <td>0</td>\n",
              "      <td>1</td>\n",
              "      <td>1</td>\n",
              "    </tr>\n",
              "    <tr>\n",
              "      <th>12</th>\n",
              "      <td>0</td>\n",
              "      <td>1</td>\n",
              "      <td>1</td>\n",
              "      <td>0</td>\n",
              "      <td>1</td>\n",
              "    </tr>\n",
              "    <tr>\n",
              "      <th>13</th>\n",
              "      <td>1</td>\n",
              "      <td>2</td>\n",
              "      <td>0</td>\n",
              "      <td>1</td>\n",
              "      <td>0</td>\n",
              "    </tr>\n",
              "  </tbody>\n",
              "</table>\n",
              "</div>"
            ],
            "text/plain": [
              "    outlook  temp  humidity  windy  play\n",
              "0         2     1         0      0     0\n",
              "1         2     1         0      1     0\n",
              "2         0     1         0      0     1\n",
              "3         1     2         0      0     1\n",
              "4         1     0         1      0     1\n",
              "5         1     0         1      1     0\n",
              "6         0     0         1      1     1\n",
              "7         2     2         0      0     0\n",
              "8         2     0         1      0     1\n",
              "9         1     2         1      0     1\n",
              "10        2     2         1      1     1\n",
              "11        0     2         0      1     1\n",
              "12        0     1         1      0     1\n",
              "13        1     2         0      1     0"
            ]
          },
          "execution_count": 3,
          "metadata": {},
          "output_type": "execute_result"
        }
      ],
      "source": [
        "data['outlook'] = data['outlook'].replace(['sunny', 'overcast', 'rainy'], [2,0,1])\n",
        "data['temp'] = data['temp'].replace(['hot', 'mild', 'cool'], [1,2,0])\n",
        "data['humidity'] = data['humidity'].replace(['high', 'normal'], [0,1])\n",
        "data['windy'] = data['windy'].replace([False, True], [0,1])\n",
        "data['play'] = data['play'].replace(['no', 'yes'], [0, 1])\n",
        "data"
      ]
    },
    {
      "cell_type": "markdown",
      "metadata": {
        "id": "1JMxM3ywmiKp"
      },
      "source": [
        "## Data Processing"
      ]
    },
    {
      "cell_type": "code",
      "execution_count": null,
      "metadata": {
        "id": "aR-nWfV23AN_"
      },
      "outputs": [],
      "source": [
        "X = data.iloc[:,:-1].values\n",
        "Y = data.iloc[:, -1].values.reshape(-1,1)"
      ]
    },
    {
      "cell_type": "code",
      "execution_count": null,
      "metadata": {
        "id": "9ctIs4rN2Zsk"
      },
      "outputs": [],
      "source": [
        "feature_list = ['outlook', 'temp', 'humidity', 'windy']\n",
        "target = 'play'"
      ]
    },
    {
      "cell_type": "code",
      "execution_count": null,
      "metadata": {
        "colab": {
          "base_uri": "https://localhost:8080/"
        },
        "id": "jL0dGXaILLsq",
        "outputId": "4d646329-bd8e-4049-ea43-4cb8a2e67a41"
      },
      "outputs": [
        {
          "data": {
            "text/plain": [
              "array([2, 0, 1], dtype=int64)"
            ]
          },
          "execution_count": 6,
          "metadata": {},
          "output_type": "execute_result"
        }
      ],
      "source": [
        "data['outlook'].unique()"
      ]
    },
    {
      "cell_type": "markdown",
      "metadata": {
        "id": "tI23G6Fj2Rp4"
      },
      "source": [
        "## Creating Tree and Node Class"
      ]
    },
    {
      "cell_type": "code",
      "execution_count": null,
      "metadata": {
        "id": "lJ55zTTuK0gU"
      },
      "outputs": [],
      "source": [
        "class Node:\n",
        "    def __init__(self, feature_index=None, threshold=None, left=None, right=None, info_gain=None, value=None):\n",
        "        # for decision node\n",
        "        self.feature_index = feature_index\n",
        "        self.threshold = threshold\n",
        "        self.left = left\n",
        "        self.right = right\n",
        "        self.info_gain = info_gain\n",
        "        \n",
        "        # for leaf node\n",
        "        self.value = value"
      ]
    },
    {
      "cell_type": "code",
      "execution_count": null,
      "metadata": {
        "id": "-2dyudJ0hnMn"
      },
      "outputs": [],
      "source": [
        "class Tree:\n",
        "    def __init__(self, min_samples_split=2, max_depth=3, mode=\"entropy\"):\n",
        "        # initialize the root of the tree \n",
        "        self.root = None\n",
        "        self.mode = mode\n",
        "        # stopping conditions\n",
        "        self.min_samples_split = min_samples_split\n",
        "        self.max_depth = max_depth\n",
        "        \n",
        "    def build_tree(self, dataset, curr_depth=0):\n",
        "        X, Y = dataset[:,:-1], dataset[:,-1]\n",
        "        num_samples, num_features = np.shape(X)\n",
        "        \n",
        "        # split until stopping conditions are met\n",
        "        if num_samples>=self.min_samples_split and curr_depth<=self.max_depth:\n",
        "            # find the best split\n",
        "            best_split = self.get_best_split(dataset, num_samples, num_features)\n",
        "            # check if information gain is positive\n",
        "            if best_split[\"info_gain\"]>0:\n",
        "                # recur left\n",
        "                left_subtree = self.build_tree(best_split[\"dataset_left\"], curr_depth+1)\n",
        "                # recur right\n",
        "                right_subtree = self.build_tree(best_split[\"dataset_right\"], curr_depth+1)\n",
        "                # return decision node\n",
        "                return Node(best_split[\"feature_index\"], best_split[\"threshold\"], \n",
        "                            left_subtree, right_subtree, best_split[\"info_gain\"])\n",
        "        \n",
        "        # compute leaf node\n",
        "        z = list(Y)\n",
        "        leaf_value = max(z, key=z.count)\n",
        "        # return leaf node\n",
        "        return Node(value=leaf_value)\n",
        "    \n",
        "    def get_best_split(self, dataset, num_samples, num_features):\n",
        "        \n",
        "        # dictionary to store the best split\n",
        "        best_split = {}\n",
        "        max_info_gain = -float(\"inf\")\n",
        "        \n",
        "        # loop over all the features\n",
        "        for feature_index in range(num_features):\n",
        "            feature_values = dataset[:, feature_index]\n",
        "            possible_thresholds = np.unique(feature_values)\n",
        "            # loop over all the feature values present in the data\n",
        "            for threshold in possible_thresholds:\n",
        "                # get current split\n",
        "                dataset_left, dataset_right = self.split(dataset, feature_index, threshold)\n",
        "                # check if childs are not null\n",
        "                if len(dataset_left)>0 and len(dataset_right)>0:\n",
        "                    y, left_y, right_y = dataset[:, -1], dataset_left[:, -1], dataset_right[:, -1]\n",
        "                    # compute information gain\n",
        "                    curr_info_gain = self.information_gain(y, left_y, right_y)\n",
        "                    # update the best split if needed\n",
        "                    if curr_info_gain>max_info_gain:\n",
        "                        best_split[\"feature_index\"] = feature_index\n",
        "                        best_split[\"threshold\"] = threshold\n",
        "                        best_split[\"dataset_left\"] = dataset_left\n",
        "                        best_split[\"dataset_right\"] = dataset_right\n",
        "                        best_split[\"info_gain\"] = curr_info_gain\n",
        "                        max_info_gain = curr_info_gain                    \n",
        "        # return best split\n",
        "        return best_split\n",
        "    \n",
        "    def split(self, dataset, feature_index, threshold):\n",
        "        dataset_left = np.array([row for row in dataset if row[feature_index]<=threshold])\n",
        "        dataset_right = np.array([row for row in dataset if row[feature_index]>threshold])\n",
        "        return dataset_left, dataset_right\n",
        "    \n",
        "    def information_gain(self, parent, l_child, r_child):\n",
        "        # function to compute information gain      \n",
        "        weight_l = len(l_child) / len(parent)\n",
        "        weight_r = len(r_child) / len(parent)\n",
        "        if self.mode==\"gini\":\n",
        "            gain = self.gini_index(parent) - (weight_l*self.gini_index(l_child) + weight_r*self.gini_index(r_child))\n",
        "        else:\n",
        "            gain = self.entropy(parent) - (weight_l*self.entropy(l_child) + weight_r*self.entropy(r_child))\n",
        "        return gain\n",
        "    \n",
        "    def entropy(self, y):\n",
        "        # Entropy calci\n",
        "        class_labels = np.unique(y)\n",
        "        entropy = 0\n",
        "        for cls in class_labels:\n",
        "            p_cls = len(y[y == cls]) / len(y)\n",
        "            entropy += -p_cls * np.log2(p_cls)\n",
        "        return entropy\n",
        "    \n",
        "    def gini_index(self, y):\n",
        "        # gini index   \n",
        "        class_labels = np.unique(y)\n",
        "        gini = 0\n",
        "        for cls in class_labels:\n",
        "            p_cls = len(y[y == cls]) / len(y)\n",
        "            gini += p_cls**2\n",
        "        return 1 - gini\n",
        "    \n",
        "    def print_tree(self, tree=None, indent=\" \"):\n",
        "        ''' function to print the tree '''\n",
        "        if not tree:\n",
        "            tree = self.root\n",
        "\n",
        "        if tree.value is not None:\n",
        "            print(tree.value)\n",
        "\n",
        "        else:\n",
        "            print(\"X_\"+str(feature_list[tree.feature_index]), \"<=\", tree.threshold, \"?\", tree.info_gain)\n",
        "            print(\"%sleft:\" % (indent), end=\"\")\n",
        "            self.print_tree(tree.left, indent + indent)\n",
        "            print(\"%sright:\" % (indent), end=\"\")\n",
        "            self.print_tree(tree.right, indent + indent)\n",
        "    \n",
        "    def fit(self, X, Y):\n",
        "        dataset = np.concatenate((X, Y), axis=1)\n",
        "        self.root = self.build_tree(dataset)\n",
        "    \n",
        "    def predict(self, X):    \n",
        "        preditions = [self.make_prediction(x, self.root) for x in X]\n",
        "        return preditions\n",
        "    \n",
        "    def make_prediction(self, x, tree):\n",
        "        # function to predict a single data point       \n",
        "        if tree.value!=None: return tree.value\n",
        "        feature_val = x[tree.feature_index]\n",
        "        if feature_val<=tree.threshold:\n",
        "            return self.make_prediction(x, tree.left)\n",
        "        else:\n",
        "            return self.make_prediction(x, tree.right)"
      ]
    },
    {
      "cell_type": "code",
      "execution_count": null,
      "metadata": {
        "colab": {
          "base_uri": "https://localhost:8080/"
        },
        "id": "fDaVAQcHkjwl",
        "outputId": "0444eea1-da9e-4843-bd58-d0ece8412f93"
      },
      "outputs": [
        {
          "name": "stdout",
          "output_type": "stream",
          "text": [
            "X_outlook <= 0 ? 0.10204081632653056\n",
            " left:1\n",
            " right:X_humidity <= 0 ? 0.18000000000000016\n",
            "  left:X_outlook <= 1 ? 0.11999999999999983\n",
            "    left:1\n",
            "    right:0\n",
            "  right:X_windy <= 0 ? 0.11999999999999983\n",
            "    left:1\n",
            "    right:0\n"
          ]
        }
      ],
      "source": [
        "classifier = Tree(min_samples_split=3,max_depth=3, mode=\"gini\")\n",
        "classifier.fit(X,Y)\n",
        "classifier.print_tree()"
      ]
    },
    {
      "cell_type": "code",
      "execution_count": null,
      "metadata": {
        "id": "95BJUAFC04aD"
      },
      "outputs": [],
      "source": [
        "from sklearn import tree \n",
        "classifier = tree.DecisionTreeClassifier(criterion=\"entropy\").fit(X, Y)"
      ]
    },
    {
      "cell_type": "code",
      "execution_count": null,
      "metadata": {
        "colab": {
          "base_uri": "https://localhost:8080/",
          "height": 658
        },
        "id": "uoS0PqxT14Ku",
        "outputId": "f1e7521c-e0c7-4945-89fd-05caa090557c"
      },
      "outputs": [
        {
          "data": {
            "text/plain": [
              "[Text(133.92000000000002, 195.696, 'outlook <= 0.5\\nentropy = 0.94\\nsamples = 14\\nvalue = [5, 9]'),\n",
              " Text(100.44000000000001, 152.208, 'entropy = 0.0\\nsamples = 4\\nvalue = [0, 4]'),\n",
              " Text(167.40000000000003, 152.208, 'humidity <= 0.5\\nentropy = 1.0\\nsamples = 10\\nvalue = [5, 5]'),\n",
              " Text(100.44000000000001, 108.72, 'outlook <= 1.5\\nentropy = 0.722\\nsamples = 5\\nvalue = [4, 1]'),\n",
              " Text(66.96000000000001, 65.232, 'windy <= 0.5\\nentropy = 1.0\\nsamples = 2\\nvalue = [1, 1]'),\n",
              " Text(33.480000000000004, 21.744, 'entropy = 0.0\\nsamples = 1\\nvalue = [0, 1]'),\n",
              " Text(100.44000000000001, 21.744, 'entropy = 0.0\\nsamples = 1\\nvalue = [1, 0]'),\n",
              " Text(133.92000000000002, 65.232, 'entropy = 0.0\\nsamples = 3\\nvalue = [3, 0]'),\n",
              " Text(234.36, 108.72, 'windy <= 0.5\\nentropy = 0.722\\nsamples = 5\\nvalue = [1, 4]'),\n",
              " Text(200.88000000000002, 65.232, 'entropy = 0.0\\nsamples = 3\\nvalue = [0, 3]'),\n",
              " Text(267.84000000000003, 65.232, 'temp <= 1.0\\nentropy = 1.0\\nsamples = 2\\nvalue = [1, 1]'),\n",
              " Text(234.36, 21.744, 'entropy = 0.0\\nsamples = 1\\nvalue = [1, 0]'),\n",
              " Text(301.32000000000005, 21.744, 'entropy = 0.0\\nsamples = 1\\nvalue = [0, 1]')]"
            ]
          },
          "execution_count": 11,
          "metadata": {},
          "output_type": "execute_result"
        },
        {
          "data": {
            "image/png": "[encoded data removed]",
            "text/plain": [
              "<Figure size 432x288 with 1 Axes>"
            ]
          },
          "metadata": {
            "needs_background": "light"
          },
          "output_type": "display_data"
        }
      ],
      "source": [
        "tree.plot_tree(classifier, feature_names=feature_list)"
      ]
    },
    {
      "cell_type": "markdown",
      "metadata": {
        "id": "TmfJcXIjmdsL"
      },
      "source": [
        "## Testing"
      ]
    },
    {
      "cell_type": "code",
      "execution_count": null,
      "metadata": {
        "colab": {
          "base_uri": "https://localhost:8080/"
        },
        "id": "qlyF4R33l5qi",
        "outputId": "97bf35cd-144a-4511-b304-336a418d2d12"
      },
      "outputs": [
        {
          "name": "stdout",
          "output_type": "stream",
          "text": [
            "[[5 0]\n",
            " [0 9]]\n"
          ]
        },
        {
          "data": {
            "text/plain": [
              "1.0"
            ]
          },
          "execution_count": 12,
          "metadata": {},
          "output_type": "execute_result"
        }
      ],
      "source": [
        "y_pred = classifier.predict(X)\n",
        "from sklearn.metrics import accuracy_score, confusion_matrix\n",
        "cm = confusion_matrix(Y, y_pred)\n",
        "print(cm)\n",
        "accuracy_score(Y, y_pred)"
      ]
    },
    {
      "cell_type": "markdown",
      "metadata": {
        "id": "qGy0xhk5yg8S"
      },
      "source": [
        "# Dataset: Iris"
      ]
    },
    {
      "cell_type": "code",
      "execution_count": null,
      "metadata": {
        "colab": {
          "base_uri": "https://localhost:8080/",
          "height": 423
        },
        "id": "RVyD28lFyivM",
        "outputId": "5a1422d5-6bb5-45ab-a9a7-b09ca1600da8"
      },
      "outputs": [
        {
          "data": {
            "text/html": [
              "<div>\n",
              "<style scoped>\n",
              "    .dataframe tbody tr th:only-of-type {\n",
              "        vertical-align: middle;\n",
              "    }\n",
              "\n",
              "    .dataframe tbody tr th {\n",
              "        vertical-align: top;\n",
              "    }\n",
              "\n",
              "    .dataframe thead th {\n",
              "        text-align: right;\n",
              "    }\n",
              "</style>\n",
              "<table border=\"1\" class=\"dataframe\">\n",
              "  <thead>\n",
              "    <tr style=\"text-align: right;\">\n",
              "      <th></th>\n",
              "      <th>Id</th>\n",
              "      <th>SepalLengthCm</th>\n",
              "      <th>SepalWidthCm</th>\n",
              "      <th>PetalLengthCm</th>\n",
              "      <th>PetalWidthCm</th>\n",
              "      <th>Species</th>\n",
              "    </tr>\n",
              "  </thead>\n",
              "  <tbody>\n",
              "    <tr>\n",
              "      <th>0</th>\n",
              "      <td>1</td>\n",
              "      <td>5.1</td>\n",
              "      <td>3.5</td>\n",
              "      <td>1.4</td>\n",
              "      <td>0.2</td>\n",
              "      <td>Iris-setosa</td>\n",
              "    </tr>\n",
              "    <tr>\n",
              "      <th>1</th>\n",
              "      <td>2</td>\n",
              "      <td>4.9</td>\n",
              "      <td>3.0</td>\n",
              "      <td>1.4</td>\n",
              "      <td>0.2</td>\n",
              "      <td>Iris-setosa</td>\n",
              "    </tr>\n",
              "    <tr>\n",
              "      <th>2</th>\n",
              "      <td>3</td>\n",
              "      <td>4.7</td>\n",
              "      <td>3.2</td>\n",
              "      <td>1.3</td>\n",
              "      <td>0.2</td>\n",
              "      <td>Iris-setosa</td>\n",
              "    </tr>\n",
              "    <tr>\n",
              "      <th>3</th>\n",
              "      <td>4</td>\n",
              "      <td>4.6</td>\n",
              "      <td>3.1</td>\n",
              "      <td>1.5</td>\n",
              "      <td>0.2</td>\n",
              "      <td>Iris-setosa</td>\n",
              "    </tr>\n",
              "    <tr>\n",
              "      <th>4</th>\n",
              "      <td>5</td>\n",
              "      <td>5.0</td>\n",
              "      <td>3.6</td>\n",
              "      <td>1.4</td>\n",
              "      <td>0.2</td>\n",
              "      <td>Iris-setosa</td>\n",
              "    </tr>\n",
              "    <tr>\n",
              "      <th>...</th>\n",
              "      <td>...</td>\n",
              "      <td>...</td>\n",
              "      <td>...</td>\n",
              "      <td>...</td>\n",
              "      <td>...</td>\n",
              "      <td>...</td>\n",
              "    </tr>\n",
              "    <tr>\n",
              "      <th>145</th>\n",
              "      <td>146</td>\n",
              "      <td>6.7</td>\n",
              "      <td>3.0</td>\n",
              "      <td>5.2</td>\n",
              "      <td>2.3</td>\n",
              "      <td>Iris-virginica</td>\n",
              "    </tr>\n",
              "    <tr>\n",
              "      <th>146</th>\n",
              "      <td>147</td>\n",
              "      <td>6.3</td>\n",
              "      <td>2.5</td>\n",
              "      <td>5.0</td>\n",
              "      <td>1.9</td>\n",
              "      <td>Iris-virginica</td>\n",
              "    </tr>\n",
              "    <tr>\n",
              "      <th>147</th>\n",
              "      <td>148</td>\n",
              "      <td>6.5</td>\n",
              "      <td>3.0</td>\n",
              "      <td>5.2</td>\n",
              "      <td>2.0</td>\n",
              "      <td>Iris-virginica</td>\n",
              "    </tr>\n",
              "    <tr>\n",
              "      <th>148</th>\n",
              "      <td>149</td>\n",
              "      <td>6.2</td>\n",
              "      <td>3.4</td>\n",
              "      <td>5.4</td>\n",
              "      <td>2.3</td>\n",
              "      <td>Iris-virginica</td>\n",
              "    </tr>\n",
              "    <tr>\n",
              "      <th>149</th>\n",
              "      <td>150</td>\n",
              "      <td>5.9</td>\n",
              "      <td>3.0</td>\n",
              "      <td>5.1</td>\n",
              "      <td>1.8</td>\n",
              "      <td>Iris-virginica</td>\n",
              "    </tr>\n",
              "  </tbody>\n",
              "</table>\n",
              "<p>150 rows × 6 columns</p>\n",
              "</div>"
            ],
            "text/plain": [
              "      Id  SepalLengthCm  SepalWidthCm  PetalLengthCm  PetalWidthCm  \\\n",
              "0      1            5.1           3.5            1.4           0.2   \n",
              "1      2            4.9           3.0            1.4           0.2   \n",
              "2      3            4.7           3.2            1.3           0.2   \n",
              "3      4            4.6           3.1            1.5           0.2   \n",
              "4      5            5.0           3.6            1.4           0.2   \n",
              "..   ...            ...           ...            ...           ...   \n",
              "145  146            6.7           3.0            5.2           2.3   \n",
              "146  147            6.3           2.5            5.0           1.9   \n",
              "147  148            6.5           3.0            5.2           2.0   \n",
              "148  149            6.2           3.4            5.4           2.3   \n",
              "149  150            5.9           3.0            5.1           1.8   \n",
              "\n",
              "            Species  \n",
              "0       Iris-setosa  \n",
              "1       Iris-setosa  \n",
              "2       Iris-setosa  \n",
              "3       Iris-setosa  \n",
              "4       Iris-setosa  \n",
              "..              ...  \n",
              "145  Iris-virginica  \n",
              "146  Iris-virginica  \n",
              "147  Iris-virginica  \n",
              "148  Iris-virginica  \n",
              "149  Iris-virginica  \n",
              "\n",
              "[150 rows x 6 columns]"
            ]
          },
          "execution_count": 13,
          "metadata": {},
          "output_type": "execute_result"
        }
      ],
      "source": [
        "data = pd.read_csv('Iris.csv')\n",
        "data"
      ]
    },
    {
      "cell_type": "code",
      "execution_count": null,
      "metadata": {
        "colab": {
          "base_uri": "https://localhost:8080/"
        },
        "id": "pqyECzyfy3oD",
        "outputId": "74805b85-f18c-41eb-93d5-4db220532127"
      },
      "outputs": [
        {
          "data": {
            "text/plain": [
              "array(['Iris-setosa', 'Iris-versicolor', 'Iris-virginica'], dtype=object)"
            ]
          },
          "execution_count": 14,
          "metadata": {},
          "output_type": "execute_result"
        }
      ],
      "source": [
        "data['Species'].unique()"
      ]
    },
    {
      "cell_type": "code",
      "execution_count": null,
      "metadata": {
        "colab": {
          "base_uri": "https://localhost:8080/",
          "height": 423
        },
        "id": "VCuYz9C0y8Ty",
        "outputId": "cc3220c4-c200-4af2-d4ac-4d3519f2ba09"
      },
      "outputs": [
        {
          "data": {
            "text/html": [
              "<div>\n",
              "<style scoped>\n",
              "    .dataframe tbody tr th:only-of-type {\n",
              "        vertical-align: middle;\n",
              "    }\n",
              "\n",
              "    .dataframe tbody tr th {\n",
              "        vertical-align: top;\n",
              "    }\n",
              "\n",
              "    .dataframe thead th {\n",
              "        text-align: right;\n",
              "    }\n",
              "</style>\n",
              "<table border=\"1\" class=\"dataframe\">\n",
              "  <thead>\n",
              "    <tr style=\"text-align: right;\">\n",
              "      <th></th>\n",
              "      <th>Id</th>\n",
              "      <th>SepalLengthCm</th>\n",
              "      <th>SepalWidthCm</th>\n",
              "      <th>PetalLengthCm</th>\n",
              "      <th>PetalWidthCm</th>\n",
              "      <th>Species</th>\n",
              "    </tr>\n",
              "  </thead>\n",
              "  <tbody>\n",
              "    <tr>\n",
              "      <th>0</th>\n",
              "      <td>1</td>\n",
              "      <td>5.1</td>\n",
              "      <td>3.5</td>\n",
              "      <td>1.4</td>\n",
              "      <td>0.2</td>\n",
              "      <td>0</td>\n",
              "    </tr>\n",
              "    <tr>\n",
              "      <th>1</th>\n",
              "      <td>2</td>\n",
              "      <td>4.9</td>\n",
              "      <td>3.0</td>\n",
              "      <td>1.4</td>\n",
              "      <td>0.2</td>\n",
              "      <td>0</td>\n",
              "    </tr>\n",
              "    <tr>\n",
              "      <th>2</th>\n",
              "      <td>3</td>\n",
              "      <td>4.7</td>\n",
              "      <td>3.2</td>\n",
              "      <td>1.3</td>\n",
              "      <td>0.2</td>\n",
              "      <td>0</td>\n",
              "    </tr>\n",
              "    <tr>\n",
              "      <th>3</th>\n",
              "      <td>4</td>\n",
              "      <td>4.6</td>\n",
              "      <td>3.1</td>\n",
              "      <td>1.5</td>\n",
              "      <td>0.2</td>\n",
              "      <td>0</td>\n",
              "    </tr>\n",
              "    <tr>\n",
              "      <th>4</th>\n",
              "      <td>5</td>\n",
              "      <td>5.0</td>\n",
              "      <td>3.6</td>\n",
              "      <td>1.4</td>\n",
              "      <td>0.2</td>\n",
              "      <td>0</td>\n",
              "    </tr>\n",
              "    <tr>\n",
              "      <th>...</th>\n",
              "      <td>...</td>\n",
              "      <td>...</td>\n",
              "      <td>...</td>\n",
              "      <td>...</td>\n",
              "      <td>...</td>\n",
              "      <td>...</td>\n",
              "    </tr>\n",
              "    <tr>\n",
              "      <th>145</th>\n",
              "      <td>146</td>\n",
              "      <td>6.7</td>\n",
              "      <td>3.0</td>\n",
              "      <td>5.2</td>\n",
              "      <td>2.3</td>\n",
              "      <td>2</td>\n",
              "    </tr>\n",
              "    <tr>\n",
              "      <th>146</th>\n",
              "      <td>147</td>\n",
              "      <td>6.3</td>\n",
              "      <td>2.5</td>\n",
              "      <td>5.0</td>\n",
              "      <td>1.9</td>\n",
              "      <td>2</td>\n",
              "    </tr>\n",
              "    <tr>\n",
              "      <th>147</th>\n",
              "      <td>148</td>\n",
              "      <td>6.5</td>\n",
              "      <td>3.0</td>\n",
              "      <td>5.2</td>\n",
              "      <td>2.0</td>\n",
              "      <td>2</td>\n",
              "    </tr>\n",
              "    <tr>\n",
              "      <th>148</th>\n",
              "      <td>149</td>\n",
              "      <td>6.2</td>\n",
              "      <td>3.4</td>\n",
              "      <td>5.4</td>\n",
              "      <td>2.3</td>\n",
              "      <td>2</td>\n",
              "    </tr>\n",
              "    <tr>\n",
              "      <th>149</th>\n",
              "      <td>150</td>\n",
              "      <td>5.9</td>\n",
              "      <td>3.0</td>\n",
              "      <td>5.1</td>\n",
              "      <td>1.8</td>\n",
              "      <td>2</td>\n",
              "    </tr>\n",
              "  </tbody>\n",
              "</table>\n",
              "<p>150 rows × 6 columns</p>\n",
              "</div>"
            ],
            "text/plain": [
              "      Id  SepalLengthCm  SepalWidthCm  PetalLengthCm  PetalWidthCm  Species\n",
              "0      1            5.1           3.5            1.4           0.2        0\n",
              "1      2            4.9           3.0            1.4           0.2        0\n",
              "2      3            4.7           3.2            1.3           0.2        0\n",
              "3      4            4.6           3.1            1.5           0.2        0\n",
              "4      5            5.0           3.6            1.4           0.2        0\n",
              "..   ...            ...           ...            ...           ...      ...\n",
              "145  146            6.7           3.0            5.2           2.3        2\n",
              "146  147            6.3           2.5            5.0           1.9        2\n",
              "147  148            6.5           3.0            5.2           2.0        2\n",
              "148  149            6.2           3.4            5.4           2.3        2\n",
              "149  150            5.9           3.0            5.1           1.8        2\n",
              "\n",
              "[150 rows x 6 columns]"
            ]
          },
          "execution_count": 15,
          "metadata": {},
          "output_type": "execute_result"
        }
      ],
      "source": [
        "data['Species'] = data['Species'].replace(['Iris-setosa', 'Iris-versicolor', 'Iris-virginica'], [0,1,2])\n",
        "data"
      ]
    },
    {
      "cell_type": "code",
      "execution_count": null,
      "metadata": {
        "id": "Sl2qa4i3zJC8"
      },
      "outputs": [],
      "source": [
        "X = data.iloc[:, :-1].values\n",
        "Y = data.iloc[:, -1].values"
      ]
    },
    {
      "cell_type": "code",
      "execution_count": null,
      "metadata": {
        "colab": {
          "base_uri": "https://localhost:8080/"
        },
        "id": "cSIlqcix893R",
        "outputId": "48d5c14b-da4d-4586-a261-801cd67ddf90"
      },
      "outputs": [
        {
          "data": {
            "text/plain": [
              "['Id', 'SepalLengthCm', 'SepalWidthCm', 'PetalLengthCm', 'PetalWidthCm']"
            ]
          },
          "execution_count": 17,
          "metadata": {},
          "output_type": "execute_result"
        }
      ],
      "source": [
        "feature_list = ['Id',\t'SepalLengthCm',\t'SepalWidthCm',\t'PetalLengthCm'\t,'PetalWidthCm']\n",
        "feature_list"
      ]
    },
    {
      "cell_type": "code",
      "execution_count": null,
      "metadata": {
        "id": "vlwAkFOJ2sgM"
      },
      "outputs": [],
      "source": [
        "#Importing train_test_split\n",
        "from sklearn.model_selection import train_test_split\n",
        "x_train  , x_test, y_train, y_test =train_test_split(X ,Y , test_size=0.3, stratify=Y)"
      ]
    },
    {
      "cell_type": "code",
      "execution_count": null,
      "metadata": {
        "colab": {
          "base_uri": "https://localhost:8080/"
        },
        "id": "Eg7k2dEQ6iB3",
        "outputId": "e0ff2ba4-8456-4863-bee6-e025aee67793"
      },
      "outputs": [
        {
          "data": {
            "text/plain": [
              "(45, 5)"
            ]
          },
          "execution_count": 19,
          "metadata": {},
          "output_type": "execute_result"
        }
      ],
      "source": [
        "x_test.shape"
      ]
    },
    {
      "cell_type": "code",
      "execution_count": null,
      "metadata": {
        "colab": {
          "base_uri": "https://localhost:8080/"
        },
        "id": "PqJmeh2s6m-W",
        "outputId": "3dc59ec4-4a29-481a-af5d-da04fda8fb80"
      },
      "outputs": [
        {
          "data": {
            "text/plain": [
              "(105, 5)"
            ]
          },
          "execution_count": 20,
          "metadata": {},
          "output_type": "execute_result"
        }
      ],
      "source": [
        "x_train.shape"
      ]
    },
    {
      "cell_type": "code",
      "execution_count": null,
      "metadata": {
        "colab": {
          "base_uri": "https://localhost:8080/"
        },
        "id": "N26TQZ_JzdOs",
        "outputId": "0c992b8c-2cec-4fa3-f324-5518aee4e700"
      },
      "outputs": [
        {
          "data": {
            "text/plain": [
              "DecisionTreeClassifier()"
            ]
          },
          "execution_count": 21,
          "metadata": {},
          "output_type": "execute_result"
        }
      ],
      "source": [
        "from sklearn.tree import DecisionTreeClassifier\n",
        "classifier = DecisionTreeClassifier()\n",
        "classifier.fit(x_train, y_train)"
      ]
    },
    {
      "cell_type": "code",
      "execution_count": null,
      "metadata": {
        "colab": {
          "base_uri": "https://localhost:8080/",
          "height": 380
        },
        "id": "fmcJVKFi5s-c",
        "outputId": "fe94e6f6-9f1c-43aa-99e5-e1db96c68926"
      },
      "outputs": [
        {
          "data": {
            "text/plain": [
              "[Text(133.92000000000002, 181.2, 'Id <= 51.0\\ngini = 0.667\\nsamples = 105\\nvalue = [35, 35, 35]'),\n",
              " Text(66.96000000000001, 108.72, 'gini = 0.0\\nsamples = 35\\nvalue = [35, 0, 0]'),\n",
              " Text(200.88000000000002, 108.72, 'Id <= 100.5\\ngini = 0.5\\nsamples = 70\\nvalue = [0, 35, 35]'),\n",
              " Text(133.92000000000002, 36.23999999999998, 'gini = 0.0\\nsamples = 35\\nvalue = [0, 35, 0]'),\n",
              " Text(267.84000000000003, 36.23999999999998, 'gini = 0.0\\nsamples = 35\\nvalue = [0, 0, 35]')]"
            ]
          },
          "execution_count": 22,
          "metadata": {},
          "output_type": "execute_result"
        },
        {
          "data": {
            "image/png": "[encoded data removed]",
            "text/plain": [
              "<Figure size 432x288 with 1 Axes>"
            ]
          },
          "metadata": {
            "needs_background": "light"
          },
          "output_type": "display_data"
        }
      ],
      "source": [
        "tree.plot_tree(classifier, feature_names=feature_list)"
      ]
    },
    {
      "cell_type": "code",
      "execution_count": null,
      "metadata": {
        "colab": {
          "base_uri": "https://localhost:8080/"
        },
        "id": "AzxF5pz8z020",
        "outputId": "a8bd1c7b-6749-453e-94f4-b676506df520"
      },
      "outputs": [
        {
          "name": "stdout",
          "output_type": "stream",
          "text": [
            "[[15  0  0]\n",
            " [ 1 14  0]\n",
            " [ 0  0 15]]\n"
          ]
        },
        {
          "data": {
            "text/plain": [
              "0.9777777777777777"
            ]
          },
          "execution_count": 23,
          "metadata": {},
          "output_type": "execute_result"
        }
      ],
      "source": [
        "y_pred = classifier.predict(x_test)\n",
        "from sklearn.metrics import accuracy_score, confusion_matrix\n",
        "cm = confusion_matrix(y_test, y_pred)\n",
        "print(cm)\n",
        "accuracy_score(y_test, y_pred)"
      ]
    },
    {
      "cell_type": "markdown",
      "metadata": {
        "id": "Ju0g4FW392HV"
      },
      "source": [
        "# Dataset: Diabetes"
      ]
    },
    {
      "cell_type": "code",
      "execution_count": null,
      "metadata": {
        "colab": {
          "base_uri": "https://localhost:8080/",
          "height": 423
        },
        "id": "IKjwr_Eu-A5p",
        "outputId": "75f64863-6742-45cb-e75e-a4332bf51714"
      },
      "outputs": [
        {
          "data": {
            "text/html": [
              "<div>\n",
              "<style scoped>\n",
              "    .dataframe tbody tr th:only-of-type {\n",
              "        vertical-align: middle;\n",
              "    }\n",
              "\n",
              "    .dataframe tbody tr th {\n",
              "        vertical-align: top;\n",
              "    }\n",
              "\n",
              "    .dataframe thead th {\n",
              "        text-align: right;\n",
              "    }\n",
              "</style>\n",
              "<table border=\"1\" class=\"dataframe\">\n",
              "  <thead>\n",
              "    <tr style=\"text-align: right;\">\n",
              "      <th></th>\n",
              "      <th>Pregnancies</th>\n",
              "      <th>Glucose</th>\n",
              "      <th>BloodPressure</th>\n",
              "      <th>SkinThickness</th>\n",
              "      <th>Insulin</th>\n",
              "      <th>BMI</th>\n",
              "      <th>DiabetesPedigreeFunction</th>\n",
              "      <th>Age</th>\n",
              "      <th>Outcome</th>\n",
              "    </tr>\n",
              "  </thead>\n",
              "  <tbody>\n",
              "    <tr>\n",
              "      <th>0</th>\n",
              "      <td>6</td>\n",
              "      <td>148</td>\n",
              "      <td>72</td>\n",
              "      <td>35</td>\n",
              "      <td>0</td>\n",
              "      <td>33.6</td>\n",
              "      <td>0.627</td>\n",
              "      <td>50</td>\n",
              "      <td>1</td>\n",
              "    </tr>\n",
              "    <tr>\n",
              "      <th>1</th>\n",
              "      <td>1</td>\n",
              "      <td>85</td>\n",
              "      <td>66</td>\n",
              "      <td>29</td>\n",
              "      <td>0</td>\n",
              "      <td>26.6</td>\n",
              "      <td>0.351</td>\n",
              "      <td>31</td>\n",
              "      <td>0</td>\n",
              "    </tr>\n",
              "    <tr>\n",
              "      <th>2</th>\n",
              "      <td>8</td>\n",
              "      <td>183</td>\n",
              "      <td>64</td>\n",
              "      <td>0</td>\n",
              "      <td>0</td>\n",
              "      <td>23.3</td>\n",
              "      <td>0.672</td>\n",
              "      <td>32</td>\n",
              "      <td>1</td>\n",
              "    </tr>\n",
              "    <tr>\n",
              "      <th>3</th>\n",
              "      <td>1</td>\n",
              "      <td>89</td>\n",
              "      <td>66</td>\n",
              "      <td>23</td>\n",
              "      <td>94</td>\n",
              "      <td>28.1</td>\n",
              "      <td>0.167</td>\n",
              "      <td>21</td>\n",
              "      <td>0</td>\n",
              "    </tr>\n",
              "    <tr>\n",
              "      <th>4</th>\n",
              "      <td>0</td>\n",
              "      <td>137</td>\n",
              "      <td>40</td>\n",
              "      <td>35</td>\n",
              "      <td>168</td>\n",
              "      <td>43.1</td>\n",
              "      <td>2.288</td>\n",
              "      <td>33</td>\n",
              "      <td>1</td>\n",
              "    </tr>\n",
              "    <tr>\n",
              "      <th>...</th>\n",
              "      <td>...</td>\n",
              "      <td>...</td>\n",
              "      <td>...</td>\n",
              "      <td>...</td>\n",
              "      <td>...</td>\n",
              "      <td>...</td>\n",
              "      <td>...</td>\n",
              "      <td>...</td>\n",
              "      <td>...</td>\n",
              "    </tr>\n",
              "    <tr>\n",
              "      <th>763</th>\n",
              "      <td>10</td>\n",
              "      <td>101</td>\n",
              "      <td>76</td>\n",
              "      <td>48</td>\n",
              "      <td>180</td>\n",
              "      <td>32.9</td>\n",
              "      <td>0.171</td>\n",
              "      <td>63</td>\n",
              "      <td>0</td>\n",
              "    </tr>\n",
              "    <tr>\n",
              "      <th>764</th>\n",
              "      <td>2</td>\n",
              "      <td>122</td>\n",
              "      <td>70</td>\n",
              "      <td>27</td>\n",
              "      <td>0</td>\n",
              "      <td>36.8</td>\n",
              "      <td>0.340</td>\n",
              "      <td>27</td>\n",
              "      <td>0</td>\n",
              "    </tr>\n",
              "    <tr>\n",
              "      <th>765</th>\n",
              "      <td>5</td>\n",
              "      <td>121</td>\n",
              "      <td>72</td>\n",
              "      <td>23</td>\n",
              "      <td>112</td>\n",
              "      <td>26.2</td>\n",
              "      <td>0.245</td>\n",
              "      <td>30</td>\n",
              "      <td>0</td>\n",
              "    </tr>\n",
              "    <tr>\n",
              "      <th>766</th>\n",
              "      <td>1</td>\n",
              "      <td>126</td>\n",
              "      <td>60</td>\n",
              "      <td>0</td>\n",
              "      <td>0</td>\n",
              "      <td>30.1</td>\n",
              "      <td>0.349</td>\n",
              "      <td>47</td>\n",
              "      <td>1</td>\n",
              "    </tr>\n",
              "    <tr>\n",
              "      <th>767</th>\n",
              "      <td>1</td>\n",
              "      <td>93</td>\n",
              "      <td>70</td>\n",
              "      <td>31</td>\n",
              "      <td>0</td>\n",
              "      <td>30.4</td>\n",
              "      <td>0.315</td>\n",
              "      <td>23</td>\n",
              "      <td>0</td>\n",
              "    </tr>\n",
              "  </tbody>\n",
              "</table>\n",
              "<p>768 rows × 9 columns</p>\n",
              "</div>"
            ],
            "text/plain": [
              "     Pregnancies  Glucose  BloodPressure  SkinThickness  Insulin   BMI  \\\n",
              "0              6      148             72             35        0  33.6   \n",
              "1              1       85             66             29        0  26.6   \n",
              "2              8      183             64              0        0  23.3   \n",
              "3              1       89             66             23       94  28.1   \n",
              "4              0      137             40             35      168  43.1   \n",
              "..           ...      ...            ...            ...      ...   ...   \n",
              "763           10      101             76             48      180  32.9   \n",
              "764            2      122             70             27        0  36.8   \n",
              "765            5      121             72             23      112  26.2   \n",
              "766            1      126             60              0        0  30.1   \n",
              "767            1       93             70             31        0  30.4   \n",
              "\n",
              "     DiabetesPedigreeFunction  Age  Outcome  \n",
              "0                       0.627   50        1  \n",
              "1                       0.351   31        0  \n",
              "2                       0.672   32        1  \n",
              "3                       0.167   21        0  \n",
              "4                       2.288   33        1  \n",
              "..                        ...  ...      ...  \n",
              "763                     0.171   63        0  \n",
              "764                     0.340   27        0  \n",
              "765                     0.245   30        0  \n",
              "766                     0.349   47        1  \n",
              "767                     0.315   23        0  \n",
              "\n",
              "[768 rows x 9 columns]"
            ]
          },
          "execution_count": 24,
          "metadata": {},
          "output_type": "execute_result"
        }
      ],
      "source": [
        "data = pd.read_csv('diabetes.csv')\n",
        "data"
      ]
    },
    {
      "cell_type": "code",
      "execution_count": null,
      "metadata": {
        "colab": {
          "base_uri": "https://localhost:8080/"
        },
        "id": "HLbdY3DG-A5s",
        "outputId": "755b6c05-1272-407a-8407-c486aca712e9"
      },
      "outputs": [
        {
          "data": {
            "text/plain": [
              "array([1, 0], dtype=int64)"
            ]
          },
          "execution_count": 25,
          "metadata": {},
          "output_type": "execute_result"
        }
      ],
      "source": [
        "data['Outcome'].unique()"
      ]
    },
    {
      "cell_type": "code",
      "execution_count": null,
      "metadata": {
        "id": "kCXHgkRl-A5u"
      },
      "outputs": [],
      "source": [
        "X = data.iloc[:, :-1].values\n",
        "Y = data.iloc[:, -1].values"
      ]
    },
    {
      "cell_type": "code",
      "execution_count": null,
      "metadata": {
        "colab": {
          "base_uri": "https://localhost:8080/"
        },
        "id": "zaISJ90Y_xXU",
        "outputId": "364ad19e-b0e8-4af3-9374-24ff2955fbea"
      },
      "outputs": [
        {
          "data": {
            "text/plain": [
              "array(['Pregnancies', 'Glucose', 'BloodPressure', 'SkinThickness',\n",
              "       'Insulin', 'BMI', 'DiabetesPedigreeFunction', 'Age'], dtype=object)"
            ]
          },
          "execution_count": 27,
          "metadata": {},
          "output_type": "execute_result"
        }
      ],
      "source": [
        "feature_cols = np.array(data.columns)\n",
        "feature_cols = feature_cols[:-1]\n",
        "feature_cols"
      ]
    },
    {
      "cell_type": "code",
      "execution_count": null,
      "metadata": {
        "id": "l_EJu_kw-A5w"
      },
      "outputs": [],
      "source": [
        "#Importing train_test_split\n",
        "from sklearn.model_selection import train_test_split\n",
        "x_train  , x_test, y_train, y_test =train_test_split(X ,Y , test_size=0.2)"
      ]
    },
    {
      "cell_type": "code",
      "execution_count": null,
      "metadata": {
        "colab": {
          "base_uri": "https://localhost:8080/"
        },
        "id": "a0AKLbdI-A5x",
        "outputId": "3ae0db99-c351-43ea-910c-3163fc9f153d"
      },
      "outputs": [
        {
          "data": {
            "text/plain": [
              "(154, 8)"
            ]
          },
          "execution_count": 29,
          "metadata": {},
          "output_type": "execute_result"
        }
      ],
      "source": [
        "x_test.shape"
      ]
    },
    {
      "cell_type": "code",
      "execution_count": null,
      "metadata": {
        "colab": {
          "base_uri": "https://localhost:8080/"
        },
        "id": "wkKUIWlG-A5y",
        "outputId": "1b004fb7-8c71-49a2-ed0a-ff72aea425d4"
      },
      "outputs": [
        {
          "data": {
            "text/plain": [
              "(614, 8)"
            ]
          },
          "execution_count": 30,
          "metadata": {},
          "output_type": "execute_result"
        }
      ],
      "source": [
        "x_train.shape"
      ]
    },
    {
      "cell_type": "code",
      "execution_count": null,
      "metadata": {
        "colab": {
          "base_uri": "https://localhost:8080/"
        },
        "id": "DrtZTKVg-A5z",
        "outputId": "efbd68ad-4358-4a4f-9429-3ef3e1e75f71"
      },
      "outputs": [
        {
          "data": {
            "text/plain": [
              "DecisionTreeClassifier()"
            ]
          },
          "execution_count": 31,
          "metadata": {},
          "output_type": "execute_result"
        }
      ],
      "source": [
        "from sklearn.tree import DecisionTreeClassifier\n",
        "diabetes = DecisionTreeClassifier()\n",
        "diabetes.fit(x_train, y_train)"
      ]
    },
    {
      "cell_type": "code",
      "execution_count": null,
      "metadata": {
        "colab": {
          "base_uri": "https://localhost:8080/"
        },
        "id": "Mplqit66-A51",
        "outputId": "284176e0-063b-4407-9070-790c5c72ccf2"
      },
      "outputs": [
        {
          "name": "stdout",
          "output_type": "stream",
          "text": [
            "[[89 24]\n",
            " [19 22]]\n"
          ]
        },
        {
          "data": {
            "text/plain": [
              "0.7207792207792207"
            ]
          },
          "execution_count": 32,
          "metadata": {},
          "output_type": "execute_result"
        }
      ],
      "source": [
        "y_pred = diabetes.predict(x_test)\n",
        "from sklearn.metrics import accuracy_score, confusion_matrix\n",
        "cm = confusion_matrix(y_test, y_pred)\n",
        "print(cm)\n",
        "accuracy_score(y_test, y_pred)"
      ]
    },
    {
      "cell_type": "code",
      "execution_count": null,
      "metadata": {
        "colab": {
          "base_uri": "https://localhost:8080/",
          "height": 2342
        },
        "id": "img5Oq4D-A50",
        "outputId": "89659f04-5719-4421-cdb9-fe8aa8c96f55"
      },
      "outputs": [
        {
          "data": {
            "text/plain": [
              "[Text(169.34651162790698, 211.04470588235293, 'Glucose <= 142.5\\ngini = 0.466\\nsamples = 614\\nvalue = [387, 227]'),\n",
              " Text(77.56848837209303, 198.25411764705882, 'BMI <= 26.95\\ngini = 0.381\\nsamples = 469\\nvalue = [349, 120]'),\n",
              " Text(12.457674418604652, 185.4635294117647, 'Pregnancies <= 2.5\\ngini = 0.089\\nsamples = 128\\nvalue = [122, 6]'),\n",
              " Text(9.343255813953489, 172.6729411764706, 'gini = 0.0\\nsamples = 69\\nvalue = [69, 0]'),\n",
              " Text(15.572093023255816, 172.6729411764706, 'Glucose <= 138.0\\ngini = 0.183\\nsamples = 59\\nvalue = [53, 6]'),\n",
              " Text(12.457674418604652, 159.88235294117646, 'BMI <= 9.65\\ngini = 0.158\\nsamples = 58\\nvalue = [53, 5]'),\n",
              " Text(6.228837209302326, 147.09176470588235, 'Pregnancies <= 7.5\\ngini = 0.444\\nsamples = 6\\nvalue = [4, 2]'),\n",
              " Text(3.114418604651163, 134.30117647058825, 'gini = 0.0\\nsamples = 4\\nvalue = [4, 0]'),\n",
              " Text(9.343255813953489, 134.30117647058825, 'gini = 0.0\\nsamples = 2\\nvalue = [0, 2]'),\n",
              " Text(18.686511627906977, 147.09176470588235, 'DiabetesPedigreeFunction <= 0.273\\ngini = 0.109\\nsamples = 52\\nvalue = [49, 3]'),\n",
              " Text(15.572093023255816, 134.30117647058825, 'gini = 0.0\\nsamples = 27\\nvalue = [27, 0]'),\n",
              " Text(21.80093023255814, 134.30117647058825, 'DiabetesPedigreeFunction <= 0.278\\ngini = 0.211\\nsamples = 25\\nvalue = [22, 3]'),\n",
              " Text(18.686511627906977, 121.51058823529411, 'gini = 0.0\\nsamples = 1\\nvalue = [0, 1]'),\n",
              " Text(24.915348837209304, 121.51058823529411, 'Age <= 29.5\\ngini = 0.153\\nsamples = 24\\nvalue = [22, 2]'),\n",
              " Text(21.80093023255814, 108.72, 'Glucose <= 102.5\\ngini = 0.408\\nsamples = 7\\nvalue = [5, 2]'),\n",
              " Text(18.686511627906977, 95.92941176470588, 'gini = 0.0\\nsamples = 4\\nvalue = [4, 0]'),\n",
              " Text(24.915348837209304, 95.92941176470588, 'Glucose <= 109.0\\ngini = 0.444\\nsamples = 3\\nvalue = [1, 2]'),\n",
              " Text(21.80093023255814, 83.13882352941175, 'gini = 0.0\\nsamples = 2\\nvalue = [0, 2]'),\n",
              " Text(28.029767441860468, 83.13882352941175, 'gini = 0.0\\nsamples = 1\\nvalue = [1, 0]'),\n",
              " Text(28.029767441860468, 108.72, 'gini = 0.0\\nsamples = 17\\nvalue = [17, 0]'),\n",
              " Text(18.686511627906977, 159.88235294117646, 'gini = 0.0\\nsamples = 1\\nvalue = [0, 1]'),\n",
              " Text(142.6793023255814, 185.4635294117647, 'Age <= 30.5\\ngini = 0.445\\nsamples = 341\\nvalue = [227, 114]'),\n",
              " Text(113.28697674418605, 172.6729411764706, 'Glucose <= 130.5\\ngini = 0.324\\nsamples = 187\\nvalue = [149, 38]'),\n",
              " Text(94.21116279069768, 159.88235294117646, 'BMI <= 45.4\\ngini = 0.271\\nsamples = 167\\nvalue = [140, 27]'),\n",
              " Text(79.41767441860466, 147.09176470588235, 'DiabetesPedigreeFunction <= 0.689\\ngini = 0.244\\nsamples = 162\\nvalue = [139, 23]'),\n",
              " Text(59.1739534883721, 134.30117647058825, 'Pregnancies <= 7.0\\ngini = 0.175\\nsamples = 134\\nvalue = [121, 13]'),\n",
              " Text(56.059534883720936, 121.51058823529411, 'BloodPressure <= 12.0\\ngini = 0.164\\nsamples = 133\\nvalue = [121, 12]'),\n",
              " Text(52.94511627906977, 108.72, 'gini = 0.0\\nsamples = 1\\nvalue = [0, 1]'),\n",
              " Text(59.1739534883721, 108.72, 'Pregnancies <= 2.5\\ngini = 0.153\\nsamples = 132\\nvalue = [121, 11]'),\n",
              " Text(42.0446511627907, 95.92941176470588, 'BloodPressure <= 84.5\\ngini = 0.088\\nsamples = 87\\nvalue = [83, 4]'),\n",
              " Text(34.25860465116279, 83.13882352941175, 'SkinThickness <= 36.5\\ngini = 0.07\\nsamples = 83\\nvalue = [80, 3]'),\n",
              " Text(28.029767441860468, 70.34823529411764, 'SkinThickness <= 5.0\\ngini = 0.028\\nsamples = 70\\nvalue = [69, 1]'),\n",
              " Text(24.915348837209304, 57.557647058823534, 'Glucose <= 110.5\\ngini = 0.18\\nsamples = 10\\nvalue = [9, 1]'),\n",
              " Text(21.80093023255814, 44.767058823529396, 'gini = 0.0\\nsamples = 8\\nvalue = [8, 0]'),\n",
              " Text(28.029767441860468, 44.767058823529396, 'DiabetesPedigreeFunction <= 0.281\\ngini = 0.5\\nsamples = 2\\nvalue = [1, 1]'),\n",
              " Text(24.915348837209304, 31.976470588235287, 'gini = 0.0\\nsamples = 1\\nvalue = [0, 1]'),\n",
              " Text(31.14418604651163, 31.976470588235287, 'gini = 0.0\\nsamples = 1\\nvalue = [1, 0]'),\n",
              " Text(31.14418604651163, 57.557647058823534, 'gini = 0.0\\nsamples = 60\\nvalue = [60, 0]'),\n",
              " Text(40.48744186046512, 70.34823529411764, 'BMI <= 34.2\\ngini = 0.26\\nsamples = 13\\nvalue = [11, 2]'),\n",
              " Text(37.373023255813955, 57.557647058823534, 'gini = 0.0\\nsamples = 1\\nvalue = [0, 1]'),\n",
              " Text(43.60186046511628, 57.557647058823534, 'Insulin <= 24.0\\ngini = 0.153\\nsamples = 12\\nvalue = [11, 1]'),\n",
              " Text(40.48744186046512, 44.767058823529396, 'Pregnancies <= 1.5\\ngini = 0.5\\nsamples = 2\\nvalue = [1, 1]'),\n",
              " Text(37.373023255813955, 31.976470588235287, 'gini = 0.0\\nsamples = 1\\nvalue = [1, 0]'),\n",
              " Text(43.60186046511628, 31.976470588235287, 'gini = 0.0\\nsamples = 1\\nvalue = [0, 1]'),\n",
              " Text(46.716279069767445, 44.767058823529396, 'gini = 0.0\\nsamples = 10\\nvalue = [10, 0]'),\n",
              " Text(49.83069767441861, 83.13882352941175, 'SkinThickness <= 26.0\\ngini = 0.375\\nsamples = 4\\nvalue = [3, 1]'),\n",
              " Text(46.716279069767445, 70.34823529411764, 'gini = 0.0\\nsamples = 1\\nvalue = [0, 1]'),\n",
              " Text(52.94511627906977, 70.34823529411764, 'gini = 0.0\\nsamples = 3\\nvalue = [3, 0]'),\n",
              " Text(76.3032558139535, 95.92941176470588, 'Glucose <= 111.5\\ngini = 0.263\\nsamples = 45\\nvalue = [38, 7]'),\n",
              " Text(65.40279069767442, 83.13882352941175, 'SkinThickness <= 40.0\\ngini = 0.124\\nsamples = 30\\nvalue = [28, 2]'),\n",
              " Text(59.1739534883721, 70.34823529411764, 'BloodPressure <= 52.0\\ngini = 0.069\\nsamples = 28\\nvalue = [27, 1]'),\n",
              " Text(56.059534883720936, 57.557647058823534, 'DiabetesPedigreeFunction <= 0.302\\ngini = 0.375\\nsamples = 4\\nvalue = [3, 1]'),\n",
              " Text(52.94511627906977, 44.767058823529396, 'gini = 0.0\\nsamples = 1\\nvalue = [0, 1]'),\n",
              " Text(59.1739534883721, 44.767058823529396, 'gini = 0.0\\nsamples = 3\\nvalue = [3, 0]'),\n",
              " Text(62.28837209302326, 57.557647058823534, 'gini = 0.0\\nsamples = 24\\nvalue = [24, 0]'),\n",
              " Text(71.63162790697675, 70.34823529411764, 'BMI <= 36.75\\ngini = 0.5\\nsamples = 2\\nvalue = [1, 1]'),\n",
              " Text(68.51720930232558, 57.557647058823534, 'gini = 0.0\\nsamples = 1\\nvalue = [0, 1]'),\n",
              " Text(74.74604651162791, 57.557647058823534, 'gini = 0.0\\nsamples = 1\\nvalue = [1, 0]'),\n",
              " Text(87.20372093023256, 83.13882352941175, 'Insulin <= 38.5\\ngini = 0.444\\nsamples = 15\\nvalue = [10, 5]'),\n",
              " Text(84.0893023255814, 70.34823529411764, 'Age <= 24.5\\ngini = 0.469\\nsamples = 8\\nvalue = [3, 5]'),\n",
              " Text(80.97488372093024, 57.557647058823534, 'gini = 0.0\\nsamples = 2\\nvalue = [2, 0]'),\n",
              " Text(87.20372093023256, 57.557647058823534, 'BloodPressure <= 88.0\\ngini = 0.278\\nsamples = 6\\nvalue = [1, 5]'),\n",
              " Text(84.0893023255814, 44.767058823529396, 'gini = 0.0\\nsamples = 5\\nvalue = [0, 5]'),\n",
              " Text(90.31813953488373, 44.767058823529396, 'gini = 0.0\\nsamples = 1\\nvalue = [1, 0]'),\n",
              " Text(90.31813953488373, 70.34823529411764, 'gini = 0.0\\nsamples = 7\\nvalue = [7, 0]'),\n",
              " Text(62.28837209302326, 121.51058823529411, 'gini = 0.0\\nsamples = 1\\nvalue = [0, 1]'),\n",
              " Text(99.66139534883722, 134.30117647058825, 'Insulin <= 67.5\\ngini = 0.459\\nsamples = 28\\nvalue = [18, 10]'),\n",
              " Text(93.43255813953489, 121.51058823529411, 'DiabetesPedigreeFunction <= 0.698\\ngini = 0.165\\nsamples = 11\\nvalue = [10, 1]'),\n",
              " Text(90.31813953488373, 108.72, 'gini = 0.0\\nsamples = 1\\nvalue = [0, 1]'),\n",
              " Text(96.54697674418605, 108.72, 'gini = 0.0\\nsamples = 10\\nvalue = [10, 0]'),\n",
              " Text(105.89023255813954, 121.51058823529411, 'BMI <= 29.9\\ngini = 0.498\\nsamples = 17\\nvalue = [8, 9]'),\n",
              " Text(102.77581395348838, 108.72, 'gini = 0.0\\nsamples = 4\\nvalue = [4, 0]'),\n",
              " Text(109.00465116279071, 108.72, 'BMI <= 34.85\\ngini = 0.426\\nsamples = 13\\nvalue = [4, 9]'),\n",
              " Text(102.77581395348838, 95.92941176470588, 'Insulin <= 85.5\\ngini = 0.219\\nsamples = 8\\nvalue = [1, 7]'),\n",
              " Text(99.66139534883722, 83.13882352941175, 'DiabetesPedigreeFunction <= 1.121\\ngini = 0.5\\nsamples = 2\\nvalue = [1, 1]'),\n",
              " Text(96.54697674418605, 70.34823529411764, 'gini = 0.0\\nsamples = 1\\nvalue = [1, 0]'),\n",
              " Text(102.77581395348838, 70.34823529411764, 'gini = 0.0\\nsamples = 1\\nvalue = [0, 1]'),\n",
              " Text(105.89023255813954, 83.13882352941175, 'gini = 0.0\\nsamples = 6\\nvalue = [0, 6]'),\n",
              " Text(115.23348837209303, 95.92941176470588, 'Pregnancies <= 1.5\\ngini = 0.48\\nsamples = 5\\nvalue = [3, 2]'),\n",
              " Text(112.11906976744187, 83.13882352941175, 'BMI <= 35.0\\ngini = 0.444\\nsamples = 3\\nvalue = [1, 2]'),\n",
              " Text(109.00465116279071, 70.34823529411764, 'gini = 0.0\\nsamples = 1\\nvalue = [1, 0]'),\n",
              " Text(115.23348837209303, 70.34823529411764, 'gini = 0.0\\nsamples = 2\\nvalue = [0, 2]'),\n",
              " Text(118.3479069767442, 83.13882352941175, 'gini = 0.0\\nsamples = 2\\nvalue = [2, 0]'),\n",
              " Text(109.00465116279071, 147.09176470588235, 'BMI <= 56.15\\ngini = 0.32\\nsamples = 5\\nvalue = [1, 4]'),\n",
              " Text(105.89023255813954, 134.30117647058825, 'gini = 0.0\\nsamples = 4\\nvalue = [0, 4]'),\n",
              " Text(112.11906976744187, 134.30117647058825, 'gini = 0.0\\nsamples = 1\\nvalue = [1, 0]'),\n",
              " Text(132.36279069767443, 159.88235294117646, 'BloodPressure <= 72.0\\ngini = 0.495\\nsamples = 20\\nvalue = [9, 11]'),\n",
              " Text(124.57674418604653, 147.09176470588235, 'Insulin <= 135.0\\ngini = 0.408\\nsamples = 14\\nvalue = [4, 10]'),\n",
              " Text(118.3479069767442, 134.30117647058825, 'BMI <= 28.8\\ngini = 0.18\\nsamples = 10\\nvalue = [1, 9]'),\n",
              " Text(115.23348837209303, 121.51058823529411, 'gini = 0.0\\nsamples = 1\\nvalue = [1, 0]'),\n",
              " Text(121.46232558139536, 121.51058823529411, 'gini = 0.0\\nsamples = 9\\nvalue = [0, 9]'),\n",
              " Text(130.80558139534884, 134.30117647058825, 'BloodPressure <= 61.0\\ngini = 0.375\\nsamples = 4\\nvalue = [3, 1]'),\n",
              " Text(127.69116279069769, 121.51058823529411, 'gini = 0.0\\nsamples = 1\\nvalue = [0, 1]'),\n",
              " Text(133.92000000000002, 121.51058823529411, 'gini = 0.0\\nsamples = 3\\nvalue = [3, 0]'),\n",
              " Text(140.14883720930234, 147.09176470588235, 'Pregnancies <= 4.5\\ngini = 0.278\\nsamples = 6\\nvalue = [5, 1]'),\n",
              " Text(137.03441860465117, 134.30117647058825, 'gini = 0.0\\nsamples = 5\\nvalue = [5, 0]'),\n",
              " Text(143.2632558139535, 134.30117647058825, 'gini = 0.0\\nsamples = 1\\nvalue = [0, 1]'),\n",
              " Text(172.07162790697677, 172.6729411764706, 'Glucose <= 94.5\\ngini = 0.5\\nsamples = 154\\nvalue = [78, 76]'),\n",
              " Text(149.49209302325582, 159.88235294117646, 'Glucose <= 30.5\\ngini = 0.293\\nsamples = 28\\nvalue = [23, 5]'),\n",
              " Text(146.37767441860467, 147.09176470588235, 'gini = 0.0\\nsamples = 2\\nvalue = [0, 2]'),\n",
              " Text(152.606511627907, 147.09176470588235, 'BMI <= 29.75\\ngini = 0.204\\nsamples = 26\\nvalue = [23, 3]'),\n",
              " Text(149.49209302325582, 134.30117647058825, 'Pregnancies <= 4.5\\ngini = 0.49\\nsamples = 7\\nvalue = [4, 3]'),\n",
              " Text(146.37767441860467, 121.51058823529411, 'gini = 0.0\\nsamples = 3\\nvalue = [3, 0]'),\n",
              " Text(152.606511627907, 121.51058823529411, 'BloodPressure <= 76.0\\ngini = 0.375\\nsamples = 4\\nvalue = [1, 3]'),\n",
              " Text(149.49209302325582, 108.72, 'gini = 0.0\\nsamples = 3\\nvalue = [0, 3]'),\n",
              " Text(155.72093023255815, 108.72, 'gini = 0.0\\nsamples = 1\\nvalue = [1, 0]'),\n",
              " Text(155.72093023255815, 134.30117647058825, 'gini = 0.0\\nsamples = 19\\nvalue = [19, 0]'),\n",
              " Text(194.6511627906977, 159.88235294117646, 'DiabetesPedigreeFunction <= 0.528\\ngini = 0.492\\nsamples = 126\\nvalue = [55, 71]'),\n",
              " Text(171.29302325581398, 147.09176470588235, 'Age <= 54.5\\ngini = 0.498\\nsamples = 83\\nvalue = [44, 39]'),\n",
              " Text(168.1786046511628, 134.30117647058825, 'Age <= 51.5\\ngini = 0.5\\nsamples = 76\\nvalue = [37, 39]'),\n",
              " Text(165.06418604651165, 121.51058823529411, 'Age <= 47.5\\ngini = 0.5\\nsamples = 72\\nvalue = [37, 35]'),\n",
              " Text(161.94976744186047, 108.72, 'SkinThickness <= 26.5\\ngini = 0.498\\nsamples = 66\\nvalue = [31, 35]'),\n",
              " Text(144.82046511627908, 95.92941176470588, 'Glucose <= 127.0\\ngini = 0.461\\nsamples = 36\\nvalue = [13, 23]'),\n",
              " Text(138.59162790697675, 83.13882352941175, 'BloodPressure <= 90.0\\ngini = 0.355\\nsamples = 26\\nvalue = [6, 20]'),\n",
              " Text(135.4772093023256, 70.34823529411764, 'DiabetesPedigreeFunction <= 0.141\\ngini = 0.278\\nsamples = 24\\nvalue = [4, 20]'),\n",
              " Text(132.36279069767443, 57.557647058823534, 'gini = 0.0\\nsamples = 1\\nvalue = [1, 0]'),\n",
              " Text(138.59162790697675, 57.557647058823534, 'BMI <= 34.6\\ngini = 0.227\\nsamples = 23\\nvalue = [3, 20]'),\n",
              " Text(129.24837209302328, 44.767058823529396, 'Pregnancies <= 9.0\\ngini = 0.111\\nsamples = 17\\nvalue = [1, 16]'),\n",
              " Text(126.1339534883721, 31.976470588235287, 'gini = 0.0\\nsamples = 13\\nvalue = [0, 13]'),\n",
              " Text(132.36279069767443, 31.976470588235287, 'DiabetesPedigreeFunction <= 0.265\\ngini = 0.375\\nsamples = 4\\nvalue = [1, 3]'),\n",
              " Text(129.24837209302328, 19.185882352941178, 'SkinThickness <= 13.0\\ngini = 0.5\\nsamples = 2\\nvalue = [1, 1]'),\n",
              " Text(126.1339534883721, 6.39529411764704, 'gini = 0.0\\nsamples = 1\\nvalue = [1, 0]'),\n",
              " Text(132.36279069767443, 6.39529411764704, 'gini = 0.0\\nsamples = 1\\nvalue = [0, 1]'),\n",
              " Text(135.4772093023256, 19.185882352941178, 'gini = 0.0\\nsamples = 2\\nvalue = [0, 2]'),\n",
              " Text(147.93488372093026, 44.767058823529396, 'BloodPressure <= 84.0\\ngini = 0.444\\nsamples = 6\\nvalue = [2, 4]'),\n",
              " Text(144.82046511627908, 31.976470588235287, 'DiabetesPedigreeFunction <= 0.211\\ngini = 0.32\\nsamples = 5\\nvalue = [1, 4]'),\n",
              " Text(141.70604651162793, 19.185882352941178, 'gini = 0.0\\nsamples = 1\\nvalue = [1, 0]'),\n",
              " Text(147.93488372093026, 19.185882352941178, 'gini = 0.0\\nsamples = 4\\nvalue = [0, 4]'),\n",
              " Text(151.0493023255814, 31.976470588235287, 'gini = 0.0\\nsamples = 1\\nvalue = [1, 0]'),\n",
              " Text(141.70604651162793, 70.34823529411764, 'gini = 0.0\\nsamples = 2\\nvalue = [2, 0]'),\n",
              " Text(151.0493023255814, 83.13882352941175, 'DiabetesPedigreeFunction <= 0.266\\ngini = 0.42\\nsamples = 10\\nvalue = [7, 3]'),\n",
              " Text(147.93488372093026, 70.34823529411764, 'gini = 0.0\\nsamples = 4\\nvalue = [4, 0]'),\n",
              " Text(154.16372093023256, 70.34823529411764, 'Glucose <= 129.5\\ngini = 0.5\\nsamples = 6\\nvalue = [3, 3]'),\n",
              " Text(151.0493023255814, 57.557647058823534, 'gini = 0.0\\nsamples = 2\\nvalue = [2, 0]'),\n",
              " Text(157.27813953488373, 57.557647058823534, 'Glucose <= 135.5\\ngini = 0.375\\nsamples = 4\\nvalue = [1, 3]'),\n",
              " Text(154.16372093023256, 44.767058823529396, 'gini = 0.0\\nsamples = 3\\nvalue = [0, 3]'),\n",
              " Text(160.39255813953488, 44.767058823529396, 'gini = 0.0\\nsamples = 1\\nvalue = [1, 0]'),\n",
              " Text(179.07906976744187, 95.92941176470588, 'Glucose <= 127.5\\ngini = 0.48\\nsamples = 30\\nvalue = [18, 12]'),\n",
              " Text(169.7358139534884, 83.13882352941175, 'BloodPressure <= 88.0\\ngini = 0.363\\nsamples = 21\\nvalue = [16, 5]'),\n",
              " Text(166.6213953488372, 70.34823529411764, 'BMI <= 27.55\\ngini = 0.266\\nsamples = 19\\nvalue = [16, 3]'),\n",
              " Text(163.50697674418606, 57.557647058823534, 'gini = 0.0\\nsamples = 1\\nvalue = [0, 1]'),\n",
              " Text(169.7358139534884, 57.557647058823534, 'DiabetesPedigreeFunction <= 0.262\\ngini = 0.198\\nsamples = 18\\nvalue = [16, 2]'),\n",
              " Text(166.6213953488372, 44.767058823529396, 'Pregnancies <= 5.5\\ngini = 0.375\\nsamples = 8\\nvalue = [6, 2]'),\n",
              " Text(163.50697674418606, 31.976470588235287, 'gini = 0.0\\nsamples = 5\\nvalue = [5, 0]'),\n",
              " Text(169.7358139534884, 31.976470588235287, 'Age <= 41.0\\ngini = 0.444\\nsamples = 3\\nvalue = [1, 2]'),\n",
              " Text(166.6213953488372, 19.185882352941178, 'gini = 0.0\\nsamples = 2\\nvalue = [0, 2]'),\n",
              " Text(172.85023255813954, 19.185882352941178, 'gini = 0.0\\nsamples = 1\\nvalue = [1, 0]'),\n",
              " Text(172.85023255813954, 44.767058823529396, 'gini = 0.0\\nsamples = 10\\nvalue = [10, 0]'),\n",
              " Text(172.85023255813954, 70.34823529411764, 'gini = 0.0\\nsamples = 2\\nvalue = [0, 2]'),\n",
              " Text(188.42232558139537, 83.13882352941175, 'Glucose <= 136.5\\ngini = 0.346\\nsamples = 9\\nvalue = [2, 7]'),\n",
              " Text(185.3079069767442, 70.34823529411764, 'SkinThickness <= 30.0\\ngini = 0.219\\nsamples = 8\\nvalue = [1, 7]'),\n",
              " Text(182.19348837209304, 57.557647058823534, 'Glucose <= 131.0\\ngini = 0.5\\nsamples = 2\\nvalue = [1, 1]'),\n",
              " Text(179.07906976744187, 44.767058823529396, 'gini = 0.0\\nsamples = 1\\nvalue = [1, 0]'),\n",
              " Text(185.3079069767442, 44.767058823529396, 'gini = 0.0\\nsamples = 1\\nvalue = [0, 1]'),\n",
              " Text(188.42232558139537, 57.557647058823534, 'gini = 0.0\\nsamples = 6\\nvalue = [0, 6]'),\n",
              " Text(191.53674418604652, 70.34823529411764, 'gini = 0.0\\nsamples = 1\\nvalue = [1, 0]'),\n",
              " Text(168.1786046511628, 108.72, 'gini = 0.0\\nsamples = 6\\nvalue = [6, 0]'),\n",
              " Text(171.29302325581398, 121.51058823529411, 'gini = 0.0\\nsamples = 4\\nvalue = [0, 4]'),\n",
              " Text(174.40744186046513, 134.30117647058825, 'gini = 0.0\\nsamples = 7\\nvalue = [7, 0]'),\n",
              " Text(218.00930232558142, 147.09176470588235, 'DiabetesPedigreeFunction <= 1.395\\ngini = 0.381\\nsamples = 43\\nvalue = [11, 32]'),\n",
              " Text(214.89488372093024, 134.30117647058825, 'Pregnancies <= 7.5\\ngini = 0.343\\nsamples = 41\\nvalue = [9, 32]'),\n",
              " Text(211.7804651162791, 121.51058823529411, 'SkinThickness <= 27.5\\ngini = 0.444\\nsamples = 27\\nvalue = [9, 18]'),\n",
              " Text(203.99441860465117, 108.72, 'BMI <= 32.6\\ngini = 0.5\\nsamples = 14\\nvalue = [7, 7]'),\n",
              " Text(197.76558139534885, 95.92941176470588, 'DiabetesPedigreeFunction <= 0.715\\ngini = 0.375\\nsamples = 8\\nvalue = [2, 6]'),\n",
              " Text(194.6511627906977, 83.13882352941175, 'gini = 0.0\\nsamples = 1\\nvalue = [1, 0]'),\n",
              " Text(200.88000000000002, 83.13882352941175, 'BMI <= 27.35\\ngini = 0.245\\nsamples = 7\\nvalue = [1, 6]'),\n",
              " Text(197.76558139534885, 70.34823529411764, 'BloodPressure <= 59.0\\ngini = 0.5\\nsamples = 2\\nvalue = [1, 1]'),\n",
              " Text(194.6511627906977, 57.557647058823534, 'gini = 0.0\\nsamples = 1\\nvalue = [0, 1]'),\n",
              " Text(200.88000000000002, 57.557647058823534, 'gini = 0.0\\nsamples = 1\\nvalue = [1, 0]'),\n",
              " Text(203.99441860465117, 70.34823529411764, 'gini = 0.0\\nsamples = 5\\nvalue = [0, 5]'),\n",
              " Text(210.2232558139535, 95.92941176470588, 'Glucose <= 123.5\\ngini = 0.278\\nsamples = 6\\nvalue = [5, 1]'),\n",
              " Text(207.10883720930235, 83.13882352941175, 'gini = 0.0\\nsamples = 4\\nvalue = [4, 0]'),\n",
              " Text(213.33767441860468, 83.13882352941175, 'Glucose <= 131.5\\ngini = 0.5\\nsamples = 2\\nvalue = [1, 1]'),\n",
              " Text(210.2232558139535, 70.34823529411764, 'gini = 0.0\\nsamples = 1\\nvalue = [0, 1]'),\n",
              " Text(216.45209302325583, 70.34823529411764, 'gini = 0.0\\nsamples = 1\\nvalue = [1, 0]'),\n",
              " Text(219.566511627907, 108.72, 'Insulin <= 177.5\\ngini = 0.26\\nsamples = 13\\nvalue = [2, 11]'),\n",
              " Text(216.45209302325583, 95.92941176470588, 'gini = 0.0\\nsamples = 9\\nvalue = [0, 9]'),\n",
              " Text(222.68093023255815, 95.92941176470588, 'Glucose <= 119.0\\ngini = 0.5\\nsamples = 4\\nvalue = [2, 2]'),\n",
              " Text(219.566511627907, 83.13882352941175, 'gini = 0.0\\nsamples = 2\\nvalue = [0, 2]'),\n",
              " Text(225.79534883720933, 83.13882352941175, 'gini = 0.0\\nsamples = 2\\nvalue = [2, 0]'),\n",
              " Text(218.00930232558142, 121.51058823529411, 'gini = 0.0\\nsamples = 14\\nvalue = [0, 14]'),\n",
              " Text(221.12372093023257, 134.30117647058825, 'gini = 0.0\\nsamples = 2\\nvalue = [2, 0]'),\n",
              " Text(261.12453488372097, 198.25411764705882, 'BMI <= 29.8\\ngini = 0.387\\nsamples = 145\\nvalue = [38, 107]'),\n",
              " Text(232.02418604651166, 185.4635294117647, 'Pregnancies <= 1.5\\ngini = 0.491\\nsamples = 30\\nvalue = [17, 13]'),\n",
              " Text(228.90976744186048, 172.6729411764706, 'gini = 0.0\\nsamples = 6\\nvalue = [6, 0]'),\n",
              " Text(235.1386046511628, 172.6729411764706, 'DiabetesPedigreeFunction <= 0.18\\ngini = 0.497\\nsamples = 24\\nvalue = [11, 13]'),\n",
              " Text(232.02418604651166, 159.88235294117646, 'gini = 0.0\\nsamples = 4\\nvalue = [0, 4]'),\n",
              " Text(238.25302325581399, 159.88235294117646, 'Age <= 53.5\\ngini = 0.495\\nsamples = 20\\nvalue = [11, 9]'),\n",
              " Text(235.1386046511628, 147.09176470588235, 'Age <= 41.5\\ngini = 0.492\\nsamples = 16\\nvalue = [7, 9]'),\n",
              " Text(232.02418604651166, 134.30117647058825, 'BloodPressure <= 75.0\\ngini = 0.486\\nsamples = 12\\nvalue = [7, 5]'),\n",
              " Text(228.90976744186048, 121.51058823529411, 'Age <= 36.5\\ngini = 0.469\\nsamples = 8\\nvalue = [3, 5]'),\n",
              " Text(225.79534883720933, 108.72, 'gini = 0.0\\nsamples = 4\\nvalue = [0, 4]'),\n",
              " Text(232.02418604651166, 108.72, 'Pregnancies <= 7.5\\ngini = 0.375\\nsamples = 4\\nvalue = [3, 1]'),\n",
              " Text(228.90976744186048, 95.92941176470588, 'gini = 0.0\\nsamples = 3\\nvalue = [3, 0]'),\n",
              " Text(235.1386046511628, 95.92941176470588, 'gini = 0.0\\nsamples = 1\\nvalue = [0, 1]'),\n",
              " Text(235.1386046511628, 121.51058823529411, 'gini = 0.0\\nsamples = 4\\nvalue = [4, 0]'),\n",
              " Text(238.25302325581399, 134.30117647058825, 'gini = 0.0\\nsamples = 4\\nvalue = [0, 4]'),\n",
              " Text(241.36744186046514, 147.09176470588235, 'gini = 0.0\\nsamples = 4\\nvalue = [4, 0]'),\n",
              " Text(290.2248837209303, 185.4635294117647, 'Glucose <= 157.5\\ngini = 0.299\\nsamples = 115\\nvalue = [21, 94]'),\n",
              " Text(261.6111627906977, 172.6729411764706, 'Age <= 30.5\\ngini = 0.444\\nsamples = 39\\nvalue = [13, 26]'),\n",
              " Text(250.7106976744186, 159.88235294117646, 'BloodPressure <= 61.0\\ngini = 0.444\\nsamples = 15\\nvalue = [10, 5]'),\n",
              " Text(247.59627906976746, 147.09176470588235, 'gini = 0.0\\nsamples = 2\\nvalue = [0, 2]'),\n",
              " Text(253.8251162790698, 147.09176470588235, 'BloodPressure <= 87.0\\ngini = 0.355\\nsamples = 13\\nvalue = [10, 3]'),\n",
              " Text(250.7106976744186, 134.30117647058825, 'SkinThickness <= 11.5\\ngini = 0.165\\nsamples = 11\\nvalue = [10, 1]'),\n",
              " Text(247.59627906976746, 121.51058823529411, 'gini = 0.0\\nsamples = 1\\nvalue = [0, 1]'),\n",
              " Text(253.8251162790698, 121.51058823529411, 'gini = 0.0\\nsamples = 10\\nvalue = [10, 0]'),\n",
              " Text(256.93953488372097, 134.30117647058825, 'gini = 0.0\\nsamples = 2\\nvalue = [0, 2]'),\n",
              " Text(272.51162790697674, 159.88235294117646, 'DiabetesPedigreeFunction <= 0.226\\ngini = 0.219\\nsamples = 24\\nvalue = [3, 21]'),\n",
              " Text(266.28279069767444, 147.09176470588235, 'BMI <= 34.3\\ngini = 0.444\\nsamples = 3\\nvalue = [2, 1]'),\n",
              " Text(263.16837209302327, 134.30117647058825, 'gini = 0.0\\nsamples = 2\\nvalue = [2, 0]'),\n",
              " Text(269.3972093023256, 134.30117647058825, 'gini = 0.0\\nsamples = 1\\nvalue = [0, 1]'),\n",
              " Text(278.7404651162791, 147.09176470588235, 'DiabetesPedigreeFunction <= 1.485\\ngini = 0.091\\nsamples = 21\\nvalue = [1, 20]'),\n",
              " Text(275.6260465116279, 134.30117647058825, 'gini = 0.0\\nsamples = 20\\nvalue = [0, 20]'),\n",
              " Text(281.8548837209303, 134.30117647058825, 'gini = 0.0\\nsamples = 1\\nvalue = [1, 0]'),\n",
              " Text(318.8386046511628, 172.6729411764706, 'Insulin <= 661.5\\ngini = 0.188\\nsamples = 76\\nvalue = [8, 68]'),\n",
              " Text(309.10604651162794, 159.88235294117646, 'BMI <= 35.3\\ngini = 0.171\\nsamples = 74\\nvalue = [7, 67]'),\n",
              " Text(298.98418604651164, 147.09176470588235, 'DiabetesPedigreeFunction <= 0.343\\ngini = 0.278\\nsamples = 36\\nvalue = [6, 30]'),\n",
              " Text(288.0837209302326, 134.30117647058825, 'Glucose <= 177.0\\ngini = 0.444\\nsamples = 15\\nvalue = [5, 10]'),\n",
              " Text(281.8548837209303, 121.51058823529411, 'Age <= 49.5\\ngini = 0.219\\nsamples = 8\\nvalue = [1, 7]'),\n",
              " Text(278.7404651162791, 108.72, 'gini = 0.0\\nsamples = 7\\nvalue = [0, 7]'),\n",
              " Text(284.9693023255814, 108.72, 'gini = 0.0\\nsamples = 1\\nvalue = [1, 0]'),\n",
              " Text(294.31255813953493, 121.51058823529411, 'Glucose <= 180.5\\ngini = 0.49\\nsamples = 7\\nvalue = [4, 3]'),\n",
              " Text(291.19813953488375, 108.72, 'gini = 0.0\\nsamples = 3\\nvalue = [3, 0]'),\n",
              " Text(297.42697674418605, 108.72, 'SkinThickness <= 22.5\\ngini = 0.375\\nsamples = 4\\nvalue = [1, 3]'),\n",
              " Text(294.31255813953493, 95.92941176470588, 'gini = 0.0\\nsamples = 1\\nvalue = [1, 0]'),\n",
              " Text(300.5413953488372, 95.92941176470588, 'gini = 0.0\\nsamples = 3\\nvalue = [0, 3]'),\n",
              " Text(309.8846511627907, 134.30117647058825, 'Glucose <= 166.0\\ngini = 0.091\\nsamples = 21\\nvalue = [1, 20]'),\n",
              " Text(306.7702325581396, 121.51058823529411, 'BMI <= 32.6\\ngini = 0.32\\nsamples = 5\\nvalue = [1, 4]'),\n",
              " Text(303.6558139534884, 108.72, 'gini = 0.0\\nsamples = 4\\nvalue = [0, 4]'),\n",
              " Text(309.8846511627907, 108.72, 'gini = 0.0\\nsamples = 1\\nvalue = [1, 0]'),\n",
              " Text(312.9990697674419, 121.51058823529411, 'gini = 0.0\\nsamples = 16\\nvalue = [0, 16]'),\n",
              " Text(319.22790697674424, 147.09176470588235, 'Age <= 57.5\\ngini = 0.051\\nsamples = 38\\nvalue = [1, 37]'),\n",
              " Text(316.11348837209306, 134.30117647058825, 'gini = 0.0\\nsamples = 36\\nvalue = [0, 36]'),\n",
              " Text(322.34232558139536, 134.30117647058825, 'Age <= 62.0\\ngini = 0.5\\nsamples = 2\\nvalue = [1, 1]'),\n",
              " Text(319.22790697674424, 121.51058823529411, 'gini = 0.0\\nsamples = 1\\nvalue = [1, 0]'),\n",
              " Text(325.45674418604654, 121.51058823529411, 'gini = 0.0\\nsamples = 1\\nvalue = [0, 1]'),\n",
              " Text(328.5711627906977, 159.88235294117646, 'BMI <= 33.4\\ngini = 0.5\\nsamples = 2\\nvalue = [1, 1]'),\n",
              " Text(325.45674418604654, 147.09176470588235, 'gini = 0.0\\nsamples = 1\\nvalue = [0, 1]'),\n",
              " Text(331.6855813953489, 147.09176470588235, 'gini = 0.0\\nsamples = 1\\nvalue = [1, 0]')]"
            ]
          },
          "execution_count": 33,
          "metadata": {},
          "output_type": "execute_result"
        },
        {
          "data": {
            "image/png": "[encoded data removed]",
            "text/plain": [
              "<Figure size 432x288 with 1 Axes>"
            ]
          },
          "metadata": {
            "needs_background": "light"
          },
          "output_type": "display_data"
        }
      ],
      "source": [
        "#Graphviz\n",
        "tree.plot_tree(diabetes, feature_names=feature_cols)"
      ]
    },
    {
      "cell_type": "markdown",
      "metadata": {
        "id": "j7mEmYVzAgep"
      },
      "source": [
        "# Dataset: Car Prediction"
      ]
    },
    {
      "cell_type": "code",
      "execution_count": null,
      "metadata": {
        "colab": {
          "base_uri": "https://localhost:8080/",
          "height": 852
        },
        "id": "4a2126fEAia4",
        "outputId": "6873913d-0026-4f2c-fd3c-c0679e78b1a8"
      },
      "outputs": [
        {
          "data": {
            "text/html": [
              "<div>\n",
              "<style scoped>\n",
              "    .dataframe tbody tr th:only-of-type {\n",
              "        vertical-align: middle;\n",
              "    }\n",
              "\n",
              "    .dataframe tbody tr th {\n",
              "        vertical-align: top;\n",
              "    }\n",
              "\n",
              "    .dataframe thead th {\n",
              "        text-align: right;\n",
              "    }\n",
              "</style>\n",
              "<table border=\"1\" class=\"dataframe\">\n",
              "  <thead>\n",
              "    <tr style=\"text-align: right;\">\n",
              "      <th></th>\n",
              "      <th>Make</th>\n",
              "      <th>Model</th>\n",
              "      <th>Year</th>\n",
              "      <th>Engine Fuel Type</th>\n",
              "      <th>Engine HP</th>\n",
              "      <th>Engine Cylinders</th>\n",
              "      <th>Transmission Type</th>\n",
              "      <th>Driven_Wheels</th>\n",
              "      <th>Number of Doors</th>\n",
              "      <th>Market Category</th>\n",
              "      <th>Vehicle Size</th>\n",
              "      <th>Vehicle Style</th>\n",
              "      <th>highway MPG</th>\n",
              "      <th>city mpg</th>\n",
              "      <th>Popularity</th>\n",
              "      <th>MSRP</th>\n",
              "    </tr>\n",
              "  </thead>\n",
              "  <tbody>\n",
              "    <tr>\n",
              "      <th>0</th>\n",
              "      <td>BMW</td>\n",
              "      <td>1 Series M</td>\n",
              "      <td>2011</td>\n",
              "      <td>premium unleaded (required)</td>\n",
              "      <td>335.0</td>\n",
              "      <td>6.0</td>\n",
              "      <td>MANUAL</td>\n",
              "      <td>rear wheel drive</td>\n",
              "      <td>2.0</td>\n",
              "      <td>Factory Tuner,Luxury,High-Performance</td>\n",
              "      <td>Compact</td>\n",
              "      <td>Coupe</td>\n",
              "      <td>26</td>\n",
              "      <td>19</td>\n",
              "      <td>3916</td>\n",
              "      <td>46135</td>\n",
              "    </tr>\n",
              "    <tr>\n",
              "      <th>1</th>\n",
              "      <td>BMW</td>\n",
              "      <td>1 Series</td>\n",
              "      <td>2011</td>\n",
              "      <td>premium unleaded (required)</td>\n",
              "      <td>300.0</td>\n",
              "      <td>6.0</td>\n",
              "      <td>MANUAL</td>\n",
              "      <td>rear wheel drive</td>\n",
              "      <td>2.0</td>\n",
              "      <td>Luxury,Performance</td>\n",
              "      <td>Compact</td>\n",
              "      <td>Convertible</td>\n",
              "      <td>28</td>\n",
              "      <td>19</td>\n",
              "      <td>3916</td>\n",
              "      <td>40650</td>\n",
              "    </tr>\n",
              "    <tr>\n",
              "      <th>2</th>\n",
              "      <td>BMW</td>\n",
              "      <td>1 Series</td>\n",
              "      <td>2011</td>\n",
              "      <td>premium unleaded (required)</td>\n",
              "      <td>300.0</td>\n",
              "      <td>6.0</td>\n",
              "      <td>MANUAL</td>\n",
              "      <td>rear wheel drive</td>\n",
              "      <td>2.0</td>\n",
              "      <td>Luxury,High-Performance</td>\n",
              "      <td>Compact</td>\n",
              "      <td>Coupe</td>\n",
              "      <td>28</td>\n",
              "      <td>20</td>\n",
              "      <td>3916</td>\n",
              "      <td>36350</td>\n",
              "    </tr>\n",
              "    <tr>\n",
              "      <th>3</th>\n",
              "      <td>BMW</td>\n",
              "      <td>1 Series</td>\n",
              "      <td>2011</td>\n",
              "      <td>premium unleaded (required)</td>\n",
              "      <td>230.0</td>\n",
              "      <td>6.0</td>\n",
              "      <td>MANUAL</td>\n",
              "      <td>rear wheel drive</td>\n",
              "      <td>2.0</td>\n",
              "      <td>Luxury,Performance</td>\n",
              "      <td>Compact</td>\n",
              "      <td>Coupe</td>\n",
              "      <td>28</td>\n",
              "      <td>18</td>\n",
              "      <td>3916</td>\n",
              "      <td>29450</td>\n",
              "    </tr>\n",
              "    <tr>\n",
              "      <th>4</th>\n",
              "      <td>BMW</td>\n",
              "      <td>1 Series</td>\n",
              "      <td>2011</td>\n",
              "      <td>premium unleaded (required)</td>\n",
              "      <td>230.0</td>\n",
              "      <td>6.0</td>\n",
              "      <td>MANUAL</td>\n",
              "      <td>rear wheel drive</td>\n",
              "      <td>2.0</td>\n",
              "      <td>Luxury</td>\n",
              "      <td>Compact</td>\n",
              "      <td>Convertible</td>\n",
              "      <td>28</td>\n",
              "      <td>18</td>\n",
              "      <td>3916</td>\n",
              "      <td>34500</td>\n",
              "    </tr>\n",
              "    <tr>\n",
              "      <th>...</th>\n",
              "      <td>...</td>\n",
              "      <td>...</td>\n",
              "      <td>...</td>\n",
              "      <td>...</td>\n",
              "      <td>...</td>\n",
              "      <td>...</td>\n",
              "      <td>...</td>\n",
              "      <td>...</td>\n",
              "      <td>...</td>\n",
              "      <td>...</td>\n",
              "      <td>...</td>\n",
              "      <td>...</td>\n",
              "      <td>...</td>\n",
              "      <td>...</td>\n",
              "      <td>...</td>\n",
              "      <td>...</td>\n",
              "    </tr>\n",
              "    <tr>\n",
              "      <th>11909</th>\n",
              "      <td>Acura</td>\n",
              "      <td>ZDX</td>\n",
              "      <td>2012</td>\n",
              "      <td>premium unleaded (required)</td>\n",
              "      <td>300.0</td>\n",
              "      <td>6.0</td>\n",
              "      <td>AUTOMATIC</td>\n",
              "      <td>all wheel drive</td>\n",
              "      <td>4.0</td>\n",
              "      <td>Crossover,Hatchback,Luxury</td>\n",
              "      <td>Midsize</td>\n",
              "      <td>4dr Hatchback</td>\n",
              "      <td>23</td>\n",
              "      <td>16</td>\n",
              "      <td>204</td>\n",
              "      <td>46120</td>\n",
              "    </tr>\n",
              "    <tr>\n",
              "      <th>11910</th>\n",
              "      <td>Acura</td>\n",
              "      <td>ZDX</td>\n",
              "      <td>2012</td>\n",
              "      <td>premium unleaded (required)</td>\n",
              "      <td>300.0</td>\n",
              "      <td>6.0</td>\n",
              "      <td>AUTOMATIC</td>\n",
              "      <td>all wheel drive</td>\n",
              "      <td>4.0</td>\n",
              "      <td>Crossover,Hatchback,Luxury</td>\n",
              "      <td>Midsize</td>\n",
              "      <td>4dr Hatchback</td>\n",
              "      <td>23</td>\n",
              "      <td>16</td>\n",
              "      <td>204</td>\n",
              "      <td>56670</td>\n",
              "    </tr>\n",
              "    <tr>\n",
              "      <th>11911</th>\n",
              "      <td>Acura</td>\n",
              "      <td>ZDX</td>\n",
              "      <td>2012</td>\n",
              "      <td>premium unleaded (required)</td>\n",
              "      <td>300.0</td>\n",
              "      <td>6.0</td>\n",
              "      <td>AUTOMATIC</td>\n",
              "      <td>all wheel drive</td>\n",
              "      <td>4.0</td>\n",
              "      <td>Crossover,Hatchback,Luxury</td>\n",
              "      <td>Midsize</td>\n",
              "      <td>4dr Hatchback</td>\n",
              "      <td>23</td>\n",
              "      <td>16</td>\n",
              "      <td>204</td>\n",
              "      <td>50620</td>\n",
              "    </tr>\n",
              "    <tr>\n",
              "      <th>11912</th>\n",
              "      <td>Acura</td>\n",
              "      <td>ZDX</td>\n",
              "      <td>2013</td>\n",
              "      <td>premium unleaded (recommended)</td>\n",
              "      <td>300.0</td>\n",
              "      <td>6.0</td>\n",
              "      <td>AUTOMATIC</td>\n",
              "      <td>all wheel drive</td>\n",
              "      <td>4.0</td>\n",
              "      <td>Crossover,Hatchback,Luxury</td>\n",
              "      <td>Midsize</td>\n",
              "      <td>4dr Hatchback</td>\n",
              "      <td>23</td>\n",
              "      <td>16</td>\n",
              "      <td>204</td>\n",
              "      <td>50920</td>\n",
              "    </tr>\n",
              "    <tr>\n",
              "      <th>11913</th>\n",
              "      <td>Lincoln</td>\n",
              "      <td>Zephyr</td>\n",
              "      <td>2006</td>\n",
              "      <td>regular unleaded</td>\n",
              "      <td>221.0</td>\n",
              "      <td>6.0</td>\n",
              "      <td>AUTOMATIC</td>\n",
              "      <td>front wheel drive</td>\n",
              "      <td>4.0</td>\n",
              "      <td>Luxury</td>\n",
              "      <td>Midsize</td>\n",
              "      <td>Sedan</td>\n",
              "      <td>26</td>\n",
              "      <td>17</td>\n",
              "      <td>61</td>\n",
              "      <td>28995</td>\n",
              "    </tr>\n",
              "  </tbody>\n",
              "</table>\n",
              "<p>11914 rows × 16 columns</p>\n",
              "</div>"
            ],
            "text/plain": [
              "          Make       Model  Year                Engine Fuel Type  Engine HP  \\\n",
              "0          BMW  1 Series M  2011     premium unleaded (required)      335.0   \n",
              "1          BMW    1 Series  2011     premium unleaded (required)      300.0   \n",
              "2          BMW    1 Series  2011     premium unleaded (required)      300.0   \n",
              "3          BMW    1 Series  2011     premium unleaded (required)      230.0   \n",
              "4          BMW    1 Series  2011     premium unleaded (required)      230.0   \n",
              "...        ...         ...   ...                             ...        ...   \n",
              "11909    Acura         ZDX  2012     premium unleaded (required)      300.0   \n",
              "11910    Acura         ZDX  2012     premium unleaded (required)      300.0   \n",
              "11911    Acura         ZDX  2012     premium unleaded (required)      300.0   \n",
              "11912    Acura         ZDX  2013  premium unleaded (recommended)      300.0   \n",
              "11913  Lincoln      Zephyr  2006                regular unleaded      221.0   \n",
              "\n",
              "       Engine Cylinders Transmission Type      Driven_Wheels  Number of Doors  \\\n",
              "0                   6.0            MANUAL   rear wheel drive              2.0   \n",
              "1                   6.0            MANUAL   rear wheel drive              2.0   \n",
              "2                   6.0            MANUAL   rear wheel drive              2.0   \n",
              "3                   6.0            MANUAL   rear wheel drive              2.0   \n",
              "4                   6.0            MANUAL   rear wheel drive              2.0   \n",
              "...                 ...               ...                ...              ...   \n",
              "11909               6.0         AUTOMATIC    all wheel drive              4.0   \n",
              "11910               6.0         AUTOMATIC    all wheel drive              4.0   \n",
              "11911               6.0         AUTOMATIC    all wheel drive              4.0   \n",
              "11912               6.0         AUTOMATIC    all wheel drive              4.0   \n",
              "11913               6.0         AUTOMATIC  front wheel drive              4.0   \n",
              "\n",
              "                             Market Category Vehicle Size  Vehicle Style  \\\n",
              "0      Factory Tuner,Luxury,High-Performance      Compact          Coupe   \n",
              "1                         Luxury,Performance      Compact    Convertible   \n",
              "2                    Luxury,High-Performance      Compact          Coupe   \n",
              "3                         Luxury,Performance      Compact          Coupe   \n",
              "4                                     Luxury      Compact    Convertible   \n",
              "...                                      ...          ...            ...   \n",
              "11909             Crossover,Hatchback,Luxury      Midsize  4dr Hatchback   \n",
              "11910             Crossover,Hatchback,Luxury      Midsize  4dr Hatchback   \n",
              "11911             Crossover,Hatchback,Luxury      Midsize  4dr Hatchback   \n",
              "11912             Crossover,Hatchback,Luxury      Midsize  4dr Hatchback   \n",
              "11913                                 Luxury      Midsize          Sedan   \n",
              "\n",
              "       highway MPG  city mpg  Popularity   MSRP  \n",
              "0               26        19        3916  46135  \n",
              "1               28        19        3916  40650  \n",
              "2               28        20        3916  36350  \n",
              "3               28        18        3916  29450  \n",
              "4               28        18        3916  34500  \n",
              "...            ...       ...         ...    ...  \n",
              "11909           23        16         204  46120  \n",
              "11910           23        16         204  56670  \n",
              "11911           23        16         204  50620  \n",
              "11912           23        16         204  50920  \n",
              "11913           26        17          61  28995  \n",
              "\n",
              "[11914 rows x 16 columns]"
            ]
          },
          "execution_count": 34,
          "metadata": {},
          "output_type": "execute_result"
        }
      ],
      "source": [
        "car = pd.read_csv('carprediction.csv')\n",
        "car"
      ]
    },
    {
      "cell_type": "code",
      "execution_count": null,
      "metadata": {
        "colab": {
          "base_uri": "https://localhost:8080/"
        },
        "id": "ZTpx1lWbAn9X",
        "outputId": "1baf6e7c-42b5-4619-edef-456902d59d07"
      },
      "outputs": [
        {
          "data": {
            "text/plain": [
              "True"
            ]
          },
          "execution_count": 35,
          "metadata": {},
          "output_type": "execute_result"
        }
      ],
      "source": [
        "car.isnull().sum().any()"
      ]
    },
    {
      "cell_type": "code",
      "execution_count": null,
      "metadata": {
        "colab": {
          "base_uri": "https://localhost:8080/"
        },
        "id": "OFz7QOqnA4_t",
        "outputId": "7f3fbdd8-cba2-4423-f502-2a5ecf49c9ad"
      },
      "outputs": [
        {
          "data": {
            "text/plain": [
              "715"
            ]
          },
          "execution_count": 36,
          "metadata": {},
          "output_type": "execute_result"
        }
      ],
      "source": [
        "car.duplicated().sum()"
      ]
    },
    {
      "cell_type": "code",
      "execution_count": null,
      "metadata": {
        "colab": {
          "base_uri": "https://localhost:8080/"
        },
        "id": "9iPpdJH5BE-o",
        "outputId": "a08abc58-646a-464c-bc08-80afdd81578a"
      },
      "outputs": [
        {
          "data": {
            "text/plain": [
              "0"
            ]
          },
          "execution_count": 37,
          "metadata": {},
          "output_type": "execute_result"
        }
      ],
      "source": [
        "car.drop_duplicates(inplace=True)\n",
        "car.duplicated().sum()"
      ]
    },
    {
      "cell_type": "code",
      "execution_count": null,
      "metadata": {
        "colab": {
          "base_uri": "https://localhost:8080/"
        },
        "id": "l-Ehscs2BRw2",
        "outputId": "0a4eca2f-2505-4bb8-8bb3-2062ac1ac907"
      },
      "outputs": [
        {
          "data": {
            "text/plain": [
              "0"
            ]
          },
          "execution_count": 38,
          "metadata": {},
          "output_type": "execute_result"
        }
      ],
      "source": [
        "car.dropna(inplace=True)\n",
        "car.isnull().any().sum()"
      ]
    },
    {
      "cell_type": "code",
      "execution_count": null,
      "metadata": {
        "colab": {
          "base_uri": "https://localhost:8080/"
        },
        "id": "SeSj6iVXFgQv",
        "outputId": "bf255b88-4024-441a-bd3d-fb69143ec71b"
      },
      "outputs": [
        {
          "data": {
            "text/plain": [
              "Index(['Make', 'Model', 'Year', 'Engine Fuel Type', 'Engine HP',\n",
              "       'Engine Cylinders', 'Transmission Type', 'Driven_Wheels',\n",
              "       'Number of Doors', 'Market Category', 'Vehicle Size', 'Vehicle Style',\n",
              "       'highway MPG', 'city mpg', 'Popularity'],\n",
              "      dtype='object')"
            ]
          },
          "execution_count": 39,
          "metadata": {},
          "output_type": "execute_result"
        }
      ],
      "source": [
        "columns = car.columns\n",
        "columns = columns[:-1]\n",
        "columns"
      ]
    },
    {
      "cell_type": "code",
      "execution_count": null,
      "metadata": {
        "colab": {
          "base_uri": "https://localhost:8080/"
        },
        "id": "KuJlUoBEFJJo",
        "outputId": "af818862-2d74-4fe2-ac01-335990d31552"
      },
      "outputs": [
        {
          "data": {
            "text/plain": [
              "array([ 19,  20,  18,  17,  16,  26,  23,  22,  21,  24,  15,  29,  28,\n",
              "        25,  32,  31,  30,  14,  10,  27,  12,  13,   9,  11,   8,  50,\n",
              "        49,  47,  35,  33,  40,  85,  42,  43,  36,  44,   7,  34, 137,\n",
              "       129,  39,  41,  37,  53,  55,  51,  54,  58,  38, 128], dtype=int64)"
            ]
          },
          "execution_count": 40,
          "metadata": {},
          "output_type": "execute_result"
        }
      ],
      "source": [
        "car['city mpg'].unique()"
      ]
    },
    {
      "cell_type": "code",
      "execution_count": null,
      "metadata": {
        "id": "DSfhDYjVE-EQ"
      },
      "outputs": [],
      "source": [
        "car.drop(['Make','Model','Engine Fuel Type', 'Vehicle Style'],axis=1, inplace=True)"
      ]
    },
    {
      "cell_type": "code",
      "execution_count": null,
      "metadata": {
        "colab": {
          "base_uri": "https://localhost:8080/"
        },
        "id": "4naxFNU5I7m3",
        "outputId": "5c0936d8-2cf9-4520-f330-228cbb71b8e9"
      },
      "outputs": [
        {
          "data": {
            "text/plain": [
              "Index(['Year', 'Engine HP', 'Engine Cylinders', 'Transmission Type',\n",
              "       'Driven_Wheels', 'Number of Doors', 'Market Category', 'Vehicle Size',\n",
              "       'highway MPG', 'city mpg', 'Popularity'],\n",
              "      dtype='object')"
            ]
          },
          "execution_count": 42,
          "metadata": {},
          "output_type": "execute_result"
        }
      ],
      "source": [
        "columns = car.columns\n",
        "columns = columns[:-1]\n",
        "columns"
      ]
    },
    {
      "cell_type": "code",
      "execution_count": null,
      "metadata": {
        "colab": {
          "base_uri": "https://localhost:8080/",
          "height": 485
        },
        "id": "LzC8isUGEAC4",
        "outputId": "5c228f63-eede-4c2d-dff9-92d6d28841e8"
      },
      "outputs": [
        {
          "data": {
            "text/html": [
              "<div>\n",
              "<style scoped>\n",
              "    .dataframe tbody tr th:only-of-type {\n",
              "        vertical-align: middle;\n",
              "    }\n",
              "\n",
              "    .dataframe tbody tr th {\n",
              "        vertical-align: top;\n",
              "    }\n",
              "\n",
              "    .dataframe thead th {\n",
              "        text-align: right;\n",
              "    }\n",
              "</style>\n",
              "<table border=\"1\" class=\"dataframe\">\n",
              "  <thead>\n",
              "    <tr style=\"text-align: right;\">\n",
              "      <th></th>\n",
              "      <th>Year</th>\n",
              "      <th>Engine HP</th>\n",
              "      <th>Engine Cylinders</th>\n",
              "      <th>Transmission Type</th>\n",
              "      <th>Driven_Wheels</th>\n",
              "      <th>Number of Doors</th>\n",
              "      <th>Market Category</th>\n",
              "      <th>Vehicle Size</th>\n",
              "      <th>highway MPG</th>\n",
              "      <th>city mpg</th>\n",
              "      <th>Popularity</th>\n",
              "      <th>MSRP</th>\n",
              "    </tr>\n",
              "  </thead>\n",
              "  <tbody>\n",
              "    <tr>\n",
              "      <th>0</th>\n",
              "      <td>21</td>\n",
              "      <td>191</td>\n",
              "      <td>4</td>\n",
              "      <td>3</td>\n",
              "      <td>3</td>\n",
              "      <td>0</td>\n",
              "      <td>37</td>\n",
              "      <td>0</td>\n",
              "      <td>14</td>\n",
              "      <td>12</td>\n",
              "      <td>45</td>\n",
              "      <td>46135</td>\n",
              "    </tr>\n",
              "    <tr>\n",
              "      <th>1</th>\n",
              "      <td>21</td>\n",
              "      <td>167</td>\n",
              "      <td>4</td>\n",
              "      <td>3</td>\n",
              "      <td>3</td>\n",
              "      <td>0</td>\n",
              "      <td>66</td>\n",
              "      <td>0</td>\n",
              "      <td>16</td>\n",
              "      <td>12</td>\n",
              "      <td>45</td>\n",
              "      <td>40650</td>\n",
              "    </tr>\n",
              "    <tr>\n",
              "      <th>2</th>\n",
              "      <td>21</td>\n",
              "      <td>167</td>\n",
              "      <td>4</td>\n",
              "      <td>3</td>\n",
              "      <td>3</td>\n",
              "      <td>0</td>\n",
              "      <td>63</td>\n",
              "      <td>0</td>\n",
              "      <td>16</td>\n",
              "      <td>13</td>\n",
              "      <td>45</td>\n",
              "      <td>36350</td>\n",
              "    </tr>\n",
              "    <tr>\n",
              "      <th>3</th>\n",
              "      <td>21</td>\n",
              "      <td>116</td>\n",
              "      <td>4</td>\n",
              "      <td>3</td>\n",
              "      <td>3</td>\n",
              "      <td>0</td>\n",
              "      <td>66</td>\n",
              "      <td>0</td>\n",
              "      <td>16</td>\n",
              "      <td>11</td>\n",
              "      <td>45</td>\n",
              "      <td>29450</td>\n",
              "    </tr>\n",
              "    <tr>\n",
              "      <th>4</th>\n",
              "      <td>21</td>\n",
              "      <td>116</td>\n",
              "      <td>4</td>\n",
              "      <td>3</td>\n",
              "      <td>3</td>\n",
              "      <td>0</td>\n",
              "      <td>62</td>\n",
              "      <td>0</td>\n",
              "      <td>16</td>\n",
              "      <td>11</td>\n",
              "      <td>45</td>\n",
              "      <td>34500</td>\n",
              "    </tr>\n",
              "    <tr>\n",
              "      <th>...</th>\n",
              "      <td>...</td>\n",
              "      <td>...</td>\n",
              "      <td>...</td>\n",
              "      <td>...</td>\n",
              "      <td>...</td>\n",
              "      <td>...</td>\n",
              "      <td>...</td>\n",
              "      <td>...</td>\n",
              "      <td>...</td>\n",
              "      <td>...</td>\n",
              "      <td>...</td>\n",
              "      <td>...</td>\n",
              "    </tr>\n",
              "    <tr>\n",
              "      <th>11909</th>\n",
              "      <td>22</td>\n",
              "      <td>167</td>\n",
              "      <td>4</td>\n",
              "      <td>1</td>\n",
              "      <td>0</td>\n",
              "      <td>2</td>\n",
              "      <td>13</td>\n",
              "      <td>2</td>\n",
              "      <td>11</td>\n",
              "      <td>9</td>\n",
              "      <td>11</td>\n",
              "      <td>46120</td>\n",
              "    </tr>\n",
              "    <tr>\n",
              "      <th>11910</th>\n",
              "      <td>22</td>\n",
              "      <td>167</td>\n",
              "      <td>4</td>\n",
              "      <td>1</td>\n",
              "      <td>0</td>\n",
              "      <td>2</td>\n",
              "      <td>13</td>\n",
              "      <td>2</td>\n",
              "      <td>11</td>\n",
              "      <td>9</td>\n",
              "      <td>11</td>\n",
              "      <td>56670</td>\n",
              "    </tr>\n",
              "    <tr>\n",
              "      <th>11911</th>\n",
              "      <td>22</td>\n",
              "      <td>167</td>\n",
              "      <td>4</td>\n",
              "      <td>1</td>\n",
              "      <td>0</td>\n",
              "      <td>2</td>\n",
              "      <td>13</td>\n",
              "      <td>2</td>\n",
              "      <td>11</td>\n",
              "      <td>9</td>\n",
              "      <td>11</td>\n",
              "      <td>50620</td>\n",
              "    </tr>\n",
              "    <tr>\n",
              "      <th>11912</th>\n",
              "      <td>23</td>\n",
              "      <td>167</td>\n",
              "      <td>4</td>\n",
              "      <td>1</td>\n",
              "      <td>0</td>\n",
              "      <td>2</td>\n",
              "      <td>13</td>\n",
              "      <td>2</td>\n",
              "      <td>11</td>\n",
              "      <td>9</td>\n",
              "      <td>11</td>\n",
              "      <td>50920</td>\n",
              "    </tr>\n",
              "    <tr>\n",
              "      <th>11913</th>\n",
              "      <td>16</td>\n",
              "      <td>109</td>\n",
              "      <td>4</td>\n",
              "      <td>1</td>\n",
              "      <td>2</td>\n",
              "      <td>2</td>\n",
              "      <td>62</td>\n",
              "      <td>2</td>\n",
              "      <td>14</td>\n",
              "      <td>10</td>\n",
              "      <td>3</td>\n",
              "      <td>28995</td>\n",
              "    </tr>\n",
              "  </tbody>\n",
              "</table>\n",
              "<p>7735 rows × 12 columns</p>\n",
              "</div>"
            ],
            "text/plain": [
              "       Year  Engine HP  Engine Cylinders  Transmission Type  Driven_Wheels  \\\n",
              "0        21        191                 4                  3              3   \n",
              "1        21        167                 4                  3              3   \n",
              "2        21        167                 4                  3              3   \n",
              "3        21        116                 4                  3              3   \n",
              "4        21        116                 4                  3              3   \n",
              "...     ...        ...               ...                ...            ...   \n",
              "11909    22        167                 4                  1              0   \n",
              "11910    22        167                 4                  1              0   \n",
              "11911    22        167                 4                  1              0   \n",
              "11912    23        167                 4                  1              0   \n",
              "11913    16        109                 4                  1              2   \n",
              "\n",
              "       Number of Doors  Market Category  Vehicle Size  highway MPG  city mpg  \\\n",
              "0                    0               37             0           14        12   \n",
              "1                    0               66             0           16        12   \n",
              "2                    0               63             0           16        13   \n",
              "3                    0               66             0           16        11   \n",
              "4                    0               62             0           16        11   \n",
              "...                ...              ...           ...          ...       ...   \n",
              "11909                2               13             2           11         9   \n",
              "11910                2               13             2           11         9   \n",
              "11911                2               13             2           11         9   \n",
              "11912                2               13             2           11         9   \n",
              "11913                2               62             2           14        10   \n",
              "\n",
              "       Popularity   MSRP  \n",
              "0              45  46135  \n",
              "1              45  40650  \n",
              "2              45  36350  \n",
              "3              45  29450  \n",
              "4              45  34500  \n",
              "...           ...    ...  \n",
              "11909          11  46120  \n",
              "11910          11  56670  \n",
              "11911          11  50620  \n",
              "11912          11  50920  \n",
              "11913           3  28995  \n",
              "\n",
              "[7735 rows x 12 columns]"
            ]
          },
          "execution_count": 43,
          "metadata": {},
          "output_type": "execute_result"
        }
      ],
      "source": [
        "from sklearn.preprocessing import LabelEncoder\n",
        "le = LabelEncoder()\n",
        "for column in columns:\n",
        "  car[column] = le.fit_transform(car[column])\n",
        "\n",
        "car"
      ]
    },
    {
      "cell_type": "code",
      "execution_count": null,
      "metadata": {
        "id": "_wek5qwqCkhS"
      },
      "outputs": [],
      "source": [
        "X = car.iloc[:, :-1].values\n",
        "Y = car.iloc[:, -1].values"
      ]
    },
    {
      "cell_type": "code",
      "execution_count": null,
      "metadata": {
        "colab": {
          "base_uri": "https://localhost:8080/"
        },
        "id": "DWS5RQepCkjH",
        "outputId": "a267a2ce-2105-403d-c329-2ea1cafa6ba8"
      },
      "outputs": [
        {
          "name": "stdout",
          "output_type": "stream",
          "text": [
            "(5801, 11)\n",
            "(5801,)\n",
            "(1934, 11)\n",
            "(1934,)\n"
          ]
        }
      ],
      "source": [
        "from sklearn.model_selection import train_test_split\n",
        "X_train, X_test, y_train, y_test = train_test_split(X, Y, test_size = 0.25, random_state = 0)\n",
        "print(X_train.shape)\n",
        "print(y_train.shape)\n",
        "print(X_test.shape)\n",
        "print(y_test.shape)"
      ]
    },
    {
      "cell_type": "code",
      "execution_count": null,
      "metadata": {
        "colab": {
          "base_uri": "https://localhost:8080/"
        },
        "id": "qxDFWnAeDXpX",
        "outputId": "7d3012bf-ae61-4e31-ab5a-60abb0efdddc"
      },
      "outputs": [
        {
          "data": {
            "text/plain": [
              "DecisionTreeRegressor(random_state=0)"
            ]
          },
          "execution_count": 46,
          "metadata": {},
          "output_type": "execute_result"
        }
      ],
      "source": [
        "# Training the Decision Tree Regression model on the whole dataset\n",
        "from sklearn.tree import DecisionTreeRegressor\n",
        "regressor = DecisionTreeRegressor(random_state = 0)\n",
        "regressor.fit(X_train, y_train)"
      ]
    },
    {
      "cell_type": "code",
      "execution_count": null,
      "metadata": {
        "colab": {
          "base_uri": "https://localhost:8080/",
          "height": 441
        },
        "id": "E-JPWrlRCk9J",
        "outputId": "84137e2d-fa83-459a-802f-75f3051ddbc3"
      },
      "outputs": [
        {
          "name": "stdout",
          "output_type": "stream",
          "text": [
            "[ 34295. 219400.  18395. ...  24090.  44195.  20360.] [ 29295 210700  18495 ...  27795  49795  24340]\n"
          ]
        },
        {
          "data": {
            "text/html": [
              "<div>\n",
              "<style scoped>\n",
              "    .dataframe tbody tr th:only-of-type {\n",
              "        vertical-align: middle;\n",
              "    }\n",
              "\n",
              "    .dataframe tbody tr th {\n",
              "        vertical-align: top;\n",
              "    }\n",
              "\n",
              "    .dataframe thead th {\n",
              "        text-align: right;\n",
              "    }\n",
              "</style>\n",
              "<table border=\"1\" class=\"dataframe\">\n",
              "  <thead>\n",
              "    <tr style=\"text-align: right;\">\n",
              "      <th></th>\n",
              "      <th>y_pred</th>\n",
              "      <th>y_test</th>\n",
              "    </tr>\n",
              "  </thead>\n",
              "  <tbody>\n",
              "    <tr>\n",
              "      <th>0</th>\n",
              "      <td>34295.00</td>\n",
              "      <td>29295</td>\n",
              "    </tr>\n",
              "    <tr>\n",
              "      <th>1</th>\n",
              "      <td>219400.00</td>\n",
              "      <td>210700</td>\n",
              "    </tr>\n",
              "    <tr>\n",
              "      <th>2</th>\n",
              "      <td>18395.00</td>\n",
              "      <td>18495</td>\n",
              "    </tr>\n",
              "    <tr>\n",
              "      <th>3</th>\n",
              "      <td>114900.00</td>\n",
              "      <td>122200</td>\n",
              "    </tr>\n",
              "    <tr>\n",
              "      <th>4</th>\n",
              "      <td>134436.00</td>\n",
              "      <td>103900</td>\n",
              "    </tr>\n",
              "    <tr>\n",
              "      <th>...</th>\n",
              "      <td>...</td>\n",
              "      <td>...</td>\n",
              "    </tr>\n",
              "    <tr>\n",
              "      <th>1929</th>\n",
              "      <td>32878.75</td>\n",
              "      <td>33130</td>\n",
              "    </tr>\n",
              "    <tr>\n",
              "      <th>1930</th>\n",
              "      <td>32645.00</td>\n",
              "      <td>42145</td>\n",
              "    </tr>\n",
              "    <tr>\n",
              "      <th>1931</th>\n",
              "      <td>24090.00</td>\n",
              "      <td>27795</td>\n",
              "    </tr>\n",
              "    <tr>\n",
              "      <th>1932</th>\n",
              "      <td>44195.00</td>\n",
              "      <td>49795</td>\n",
              "    </tr>\n",
              "    <tr>\n",
              "      <th>1933</th>\n",
              "      <td>20360.00</td>\n",
              "      <td>24340</td>\n",
              "    </tr>\n",
              "  </tbody>\n",
              "</table>\n",
              "<p>1934 rows × 2 columns</p>\n",
              "</div>"
            ],
            "text/plain": [
              "         y_pred  y_test\n",
              "0      34295.00   29295\n",
              "1     219400.00  210700\n",
              "2      18395.00   18495\n",
              "3     114900.00  122200\n",
              "4     134436.00  103900\n",
              "...         ...     ...\n",
              "1929   32878.75   33130\n",
              "1930   32645.00   42145\n",
              "1931   24090.00   27795\n",
              "1932   44195.00   49795\n",
              "1933   20360.00   24340\n",
              "\n",
              "[1934 rows x 2 columns]"
            ]
          },
          "execution_count": 47,
          "metadata": {},
          "output_type": "execute_result"
        }
      ],
      "source": [
        "y_pred = regressor.predict(X_test)\n",
        "print(y_pred, y_test)\n",
        "test = pd.DataFrame({'y_pred':y_pred, 'y_test':y_test})\n",
        "test"
      ]
    },
    {
      "cell_type": "markdown",
      "metadata": {
        "id": "URdkMcz3Pmhu"
      },
      "source": [
        "#### Accuracy score is only for classification problems. For regression problems you can use: R2 Score, MSE (Mean Squared Error), RMSE (Root Mean Squared Error).\n",
        "![error.png](data:image/png;base64,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)"
      ]
    },
    {
      "cell_type": "code",
      "execution_count": null,
      "metadata": {
        "colab": {
          "base_uri": "https://localhost:8080/"
        },
        "id": "0PGFkWMNGWIh",
        "outputId": "107eb442-dc8c-4590-a6da-fa76804be61d"
      },
      "outputs": [
        {
          "name": "stdout",
          "output_type": "stream",
          "text": [
            "0.10347217622070184\n",
            "0.6814676724841388\n"
          ]
        }
      ],
      "source": [
        "from sklearn.metrics import mean_absolute_percentage_error, r2_score\n",
        "print(mean_absolute_percentage_error(y_test, y_pred))\n",
        "print(r2_score(y_test, y_pred))"
      ]
    }
  ],
  "metadata": {
    "colab": {
      "provenance": [],
      "include_colab_link": true
    },
    "kernelspec": {
      "display_name": "Python 3 (ipykernel)",
      "language": "python",
      "name": "python3"
    },
    "language_info": {
      "codemirror_mode": {
        "name": "ipython",
        "version": 3
      },
      "file_extension": ".py",
      "mimetype": "text/x-python",
      "name": "python",
      "nbconvert_exporter": "python",
      "pygments_lexer": "ipython3",
      "version": "3.9.7"
    }
  },
  "nbformat": 4,
  "nbformat_minor": 0
}